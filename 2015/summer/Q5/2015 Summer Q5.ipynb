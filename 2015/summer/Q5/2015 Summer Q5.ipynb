{
 "cells": [
  {
   "cell_type": "markdown",
   "metadata": {},
   "source": [
    "# 2015 Summer Q5\n",
    "# Interpolation/Numerical Quadratures (Peterson)"
   ]
  },
  {
   "cell_type": "markdown",
   "metadata": {},
   "source": [
    "## a)"
   ]
  },
  {
   "cell_type": "code",
   "execution_count": 2,
   "metadata": {
    "collapsed": false
   },
   "outputs": [
    {
     "name": "stdout",
     "output_type": "stream",
     "text": [
      "i) The Lagrange form of the interpolating polynomial p2(x) is the inner product: [0.5, 1.0, 0.5] [0.5*x**2 - 0.5*x, -1.0*x**2 + 1.0, 0.5*x**2 + 0.5*x] , which is equal to -0.5*x**2 + 1.0\n"
     ]
    },
    {
     "data": {
      "image/png": "[encoded data removed]",
      "text/plain": [
       "<matplotlib.figure.Figure at 0x7f5988b87550>"
      ]
     },
     "metadata": {},
     "output_type": "display_data"
    }
   ],
   "source": [
    "from __future__ import print_function\n",
    "from __future__ import division\n",
    "import numpy as np\n",
    "import sympy as sp\n",
    "from sympy import lambdify\n",
    "import matplotlib.pyplot as plt\n",
    "%matplotlib inline\n",
    "\n",
    "#function f\n",
    "f = lambda x: 1/(1+x**2)\n",
    "\n",
    "def Lagrange(start, stop, n, function):\n",
    "    '''Build Lagrange polynomial via numpy and sympy.\n",
    "    description:\n",
    "        returns a sympy polynomial that equals the\n",
    "        value of \"function\" at the \"n\" evenly spaced \n",
    "        points on the interval set by \"start\"/\"stop\".\n",
    "    input: \n",
    "        start = interval start\n",
    "        stop = interval end\n",
    "        n = number of points to build Langrange\n",
    "            polynomial with.\n",
    "        function = f(x) to interpolate\n",
    "    output:\n",
    "        (0) a degree n-1 polynomial equal to the\n",
    "            dot product of (1) and (2)\n",
    "        (1) an array [a1,a2,...an], where\n",
    "            ai=f(xi)\n",
    "        (2) an array [l1,l2,...,ln], where\n",
    "            li(xj) = (Kronecker delta)ij\n",
    "    '''\n",
    "    x = sp.symbols('x')\n",
    "    points = np.linspace(start,stop,n)\n",
    "    Ls = [1] * n\n",
    "    for i in range(n):\n",
    "        #build the polynomial li(xj) = (Kronecker delta)ij\n",
    "        for j in range(n):\n",
    "            if i!=j:\n",
    "                Ls[i] *= (x - points[j]) / (points[i] - points[j]) \n",
    "        #simplify the expression (for readability)\n",
    "        Ls[i] = sp.expand(Ls[i])\n",
    "    #create each ai, where ai is the value of f(xi)\n",
    "    As = [function(points[i]) for i in range(n)]\n",
    "    #sum the multiplications ai*li(x) to get p2(x)\n",
    "    L = np.array(As).dot(Ls)\n",
    "    return sp.simplify(L), As, Ls\n",
    "\n",
    "print('i) The Lagrange form of the interpolating polynomial p2(x) is the inner product:', \n",
    "      Lagrange(-1,1,3,f)[1],Lagrange(-1,1,3,f)[2],', which is equal to', \n",
    "      Lagrange(-1,1,3,f)[0])\n",
    "\n",
    "#graph f(x) and p2(x) using 100 evenly spaced points\n",
    "#100 evenly spaced points on [-1,1]\n",
    "Xs = np.linspace(-1,1,100)\n",
    "#convert the Lagrange polynomial to a python function\n",
    "x = sp.symbols('x')\n",
    "p2 = lambdify(x, Lagrange(-1,1,3,f)[0])\n",
    "#100 values of f(x) and p2(x)\n",
    "Fs = np.array([f(x) for x in Xs])\n",
    "P2s = np.array([p2(x) for x in Xs])\n",
    "#plot\n",
    "plt.plot(Xs,Fs, label = \"f(x)\")\n",
    "plt.plot(Xs,P2s, label = \"p2(x)\", linestyle='--')\n",
    "plt.ylim(.4,1.1)\n",
    "plt.legend(loc='lower center')\n",
    "plt.title('f(x) and p2(x) on [-1,1]')\n",
    "plt.show()"
   ]
  },
  {
   "cell_type": "code",
   "execution_count": 3,
   "metadata": {
    "collapsed": false
   },
   "outputs": [
    {
     "name": "stdout",
     "output_type": "stream",
     "text": [
      "ii) The L2 norm of the error using the 100 points plotted above is 0.560316389254 .\n"
     ]
    }
   ],
   "source": [
    "print('ii) The L2 norm of the error using the 100 points plotted above is', \n",
    "      np.linalg.norm(Fs-P2s),'.')"
   ]
  },
  {
   "cell_type": "markdown",
   "metadata": {},
   "source": [
    "The error bound of a polynomial $p_n(x)$ interpolating a function $f(x)$ on $[-1,1]$ is\n",
    "$$\n",
    "\\big|f(x)-p_n(x)\\big| \\leq \\max_{-1 \\leq \\xi \\leq 1} \\Bigg| \\frac{f^{(n+1)}(\\xi)}{(n+1)!}\\Bigg| \\cdot \\max_{-1 \\leq x \\leq 1} \\Bigg| \\prod_{i=0}^{n} (x-x_i) \\Bigg|\n",
    "$$\n",
    "\n",
    "For our case where $n=2$ and $f(x) = 1/(1+x^2)$:\n",
    "$$\n",
    "\\max_{-1 \\leq \\xi \\leq 1} \\Bigg| \\frac{f^{(3)}(\\xi)}{3!}\\Bigg| = \\frac{4.67}{6} = 0.778\n",
    "$$\n",
    "$$\n",
    "\\max_{-1 \\leq x \\leq 1} \\Bigg| \\prod_{i=0}^{n} (x-x_i) \\Bigg| = \n",
    "\\max_{-1 \\leq x \\leq 1} \\big| (x+1)(x)(x-1) \\big| = \n",
    "\\max_{-1 \\leq x \\leq 1} \\big| (x^3-x) \\big| = 0.385\n",
    "$$\n",
    "Thus, \n",
    "$$\n",
    "\\big|f(x)-p_n(x)\\big| \\leq 0.3\n",
    "$$"
   ]
  },
  {
   "cell_type": "code",
   "execution_count": 4,
   "metadata": {
    "collapsed": false
   },
   "outputs": [
    {
     "name": "stdout",
     "output_type": "stream",
     "text": [
      "Given the above error bound at each point, the maximum L2 norm error for 100 points is 3.0 . The Lagrange interpolating polynomial p2(x) had an error of 0.56, which is approximately one fifth the size of the maximum possible error.\n"
     ]
    }
   ],
   "source": [
    "print('Given the above error bound at each point, the maximum L2 norm error for 100 points is',\n",
    "     np.linalg.norm(np.array([0.3]*100)),'. The Lagrange interpolating polynomial p2(x) had',\n",
    "     'an error of 0.56, which is approximately one fifth the size of the maximum possible',\n",
    "     'error.')"
   ]
  },
  {
   "cell_type": "markdown",
   "metadata": {},
   "source": [
    "iii) The interpolating polynomial $p_2(x)$ can be substituted for $f(x)$ in the following integral as an approximation:\n",
    "\n",
    "$$\n",
    "\\int_{-1}^1 \\frac{1}{1+x^2} dx \\approx \\int_{-1}^1 p_2(x)\\ dx\n",
    "$$\n",
    "\n",
    "where\n",
    "\n",
    "\\begin{align}\n",
    " \\int_{-1}^1 p_2(x)\\ dx &= \\sum_{i=0}^2f(x_i) \\int_{-1}^1 l_i\\ dx\n",
    " \\\\\n",
    " \\\\&= \\sum_{i=0}^2a_i \\int_{-1}^1 l_i\\ dx\n",
    " \\\\\n",
    " \\\\&=0.5 \\Big[\\int_{-1}^1 0.5x^2 - 0.5x\\ dx \\Big]+ \\Big[\\int_{-1}^1 -x^2 + 1\\ dx \\Big] + 0.5  \\Big[\\int_{-1}^1 0.5x^2 + 0.5x\\ dx \\Big]\n",
    " \\\\\n",
    " \\\\&=0.5 \\Big[\\frac{1}{6}x^3 - 0.25x^2 \\Big]_{-1}^1  + \\Big[-\\frac{1}{3}x^3 + x \\Big]_{-1}^1  + 0.5  \\Big[\\frac{1}{6}x^3 + 0.25x^2 \\Big]_{-1}^1 \n",
    " \\\\\n",
    " \\\\&=0.5 \\Big[\\frac{1}{3}\\Big]  + \\Big[\\frac{4}{3}\\Big]  + 0.5  \\Big[\\frac{1}{3}\\Big]\n",
    " \\\\\n",
    " \\\\&= \\frac{5}{3}\n",
    " \\\\\n",
    " \\\\&\\approx 1.67\n",
    "\\end{align}\n",
    "\n",
    "The substitution of $p_2(x)$ for $f(x)$ above revealed Simpson's quadrature rule, which is $\\frac{1}{3}h(f_0+4f_1+f_2)$, where $h=\\frac{1}{2}(x_2-x_0)=1$ on $[-1,1]$.\n",
    "\n",
    "The exact solution to the integral of $f(x)$ is:\n",
    "\n",
    "$$\n",
    "\\int_{-1}^1 \\frac{1}{1+x^2} dx = \\frac{\\pi}{2} \\approx 1.57\n",
    "$$\n",
    "\n",
    "The exact error of the integral approximation is $\\approx 0.1$."
   ]
  },
  {
   "cell_type": "markdown",
   "metadata": {},
   "source": [
    "## b)"
   ]
  },
  {
   "cell_type": "markdown",
   "metadata": {},
   "source": [
    "i) The matrix equation we wish to solve has the form:\n",
    "$$\n",
    "\\begin{bmatrix}\n",
    "\\phi_0(x_0) & \\phi_1(x_0) & \\phi_2(x_0) & 1\n",
    "\\\\ \\phi_0(x_1) & \\phi_1(x_1) & \\phi_2(x_1) & 1\n",
    "\\\\ \\phi_0(x_2) & \\phi_1(x_2) & \\phi_2(x_2) & 1\n",
    "\\\\ 1 & 1 & 1 & 0\n",
    "\\end{bmatrix}\n",
    "\\begin{bmatrix}\n",
    "c_0\n",
    "\\\\ c_1\n",
    "\\\\ c_2\n",
    "\\\\ \\beta\n",
    "\\end{bmatrix}\n",
    "=\n",
    "\\begin{bmatrix}\n",
    "f(x_0)\n",
    "\\\\ f(x_1)\n",
    "\\\\ f(x_2)\n",
    "\\\\ 0\n",
    "\\end{bmatrix}\n",
    "$$\n",
    "\n",
    "The entries in the matrix are computed in the next cell."
   ]
  },
  {
   "cell_type": "code",
   "execution_count": 5,
   "metadata": {
    "collapsed": false
   },
   "outputs": [
    {
     "name": "stdout",
     "output_type": "stream",
     "text": [
      "The entries in the above matrix are:\n",
      " [[ 1.          0.36787944  0.01831564  1.        ]\n",
      " [ 0.36787944  1.          0.36787944  1.        ]\n",
      " [ 0.01831564  0.36787944  1.          1.        ]\n",
      " [ 1.          1.          1.          0.        ]]\n"
     ]
    }
   ],
   "source": [
    "phi = lambda x, xi: np.exp(-(x-xi)**2)\n",
    "\n",
    "Xs_and_constant = [-1,0,1,1]\n",
    "\n",
    "#explicitly compute the entries in the above matrix\n",
    "matrix = np.eye(4,4)\n",
    "for i in range(4):\n",
    "    for j in range(4):\n",
    "        if i==3 and j!=3:\n",
    "            matrix[i,j] = 1\n",
    "        elif i==3 and j==3:\n",
    "            matrix[i,j] = 0\n",
    "        elif j!=3:\n",
    "            matrix[i,j] = phi(Xs_and_constant[i],Xs_and_constant[j])\n",
    "        else:\n",
    "            matrix[i,j] = 1\n",
    "print(\"The entries in the above matrix are:\\n\", matrix)"
   ]
  },
  {
   "cell_type": "code",
   "execution_count": 6,
   "metadata": {
    "collapsed": false
   },
   "outputs": [
    {
     "name": "stdout",
     "output_type": "stream",
     "text": [
      "The coefficients that solve the above system are:\n",
      " [-0.32324844  0.64649688 -0.32324844  0.59133603]\n"
     ]
    },
    {
     "data": {
      "image/png": "[encoded data removed]",
      "text/plain": [
       "<matplotlib.figure.Figure at 0x7f598ca59650>"
      ]
     },
     "metadata": {},
     "output_type": "display_data"
    },
    {
     "name": "stdout",
     "output_type": "stream",
     "text": [
      "L2 norm of error at the 100 points is: 0.0535498068109\n"
     ]
    }
   ],
   "source": [
    "#solve the system\n",
    "rhs = [f(-1),f(0),f(1),0]\n",
    "coefficients = np.linalg.solve(matrix,rhs)\n",
    "print(\"The coefficients that solve the above system are:\\n\", coefficients)\n",
    "\n",
    "e = np.exp(1)\n",
    "x = sp.symbols('x')\n",
    "phi = 0\n",
    "for i in range(4):\n",
    "    if i!=3:\n",
    "        phi += coefficients[i]*e**(-(x-(Xs_and_constant[i]))**2)\n",
    "    else:\n",
    "        phi += coefficients[i]\n",
    "        \n",
    "s2 = lambdify(x,phi)\n",
    "S2s = [s2(x) for x in Xs]\n",
    "        \n",
    "#plot\n",
    "plt.plot(Xs,Fs, label = \"f(x)\")\n",
    "plt.plot(Xs,S2s, label = \"s2(x)\", linestyle='--')\n",
    "plt.ylim(.4,1.1)\n",
    "plt.legend(loc='lower center')\n",
    "plt.title('f(x) and s2(x) on [-1,1]')\n",
    "plt.show()\n",
    "\n",
    "print(\"L2 norm of error at the 100 points is:\", np.linalg.norm(Fs-S2s))"
   ]
  },
  {
   "cell_type": "markdown",
   "metadata": {},
   "source": [
    "iii) It is not easy to use $s(x)$ to find an approximation to the integral of $f(x)$. $s(x)$ contains terms equal to the Gaussian function $e^{-x^2}$, which doesn't have an elementary indefinite integral. I think the integral of $s(x)$ would have to be solved for numerically, which is much more work than computing the integral of the polynomial interpolant."
   ]
  },
  {
   "cell_type": "markdown",
   "metadata": {},
   "source": [
    "## c)"
   ]
  },
  {
   "cell_type": "markdown",
   "metadata": {},
   "source": [
    "The error using s(x) is less than one tenth of the error using p(x), 0.054 compared to 0.56. Visually, s(x) is clearly the better interpolant.\n",
    "\n",
    "Obtaining s(x) is $\\mathcal{O}(n^3)$, while obtaining p(x) is $\\mathcal{O}(n^2)$, so the latter is less costly. A description of these costs is given below. Note that in the resources provided below, there is a parallel algorithm that gives a radial basis function interpolant with $\\mathcal{O}(n)$ complexity.\n",
    "\n",
    "Given $n$ interpolation points, the cost of obtaining s(x) is:\n",
    "\n",
    "$\\ \\ \\ \\bullet$ Building matrix that is (n+1)x(n+1)\n",
    "\n",
    "$\\ \\ \\ \\bullet$ Solving (n+1)x(n+1) symmetric system\n",
    "\n",
    "where the majority of the cost is coming from the solution of the symmetric system. We can use a Cholesky decomposition to solve the symmetric system, which means obtaining s(x) has a cost with a leading complexity term of $\\frac{1}{3}(n+1)^3$ operations.\n",
    "\n",
    "The cost of obtaining p(x) is:\n",
    "\n",
    "$\\ \\ \\ \\bullet$ Building Lagrange polynomials, which are of the form $p_{n-1}(x)=\\sum\\limits_{i=0}^n(\\prod\\limits_{0\\leq j\\leq n,i\\neq j}^n \\frac{x-x_j}{x_i-x_j})f(x_i)$.\n",
    "\n",
    "For a given $i,j$ in the above formula, each term in the product has two additions/subtractions and one division. Then, the quotient is multiplied by the quotient from the next $j$. This means there are 4 operations per $j$. There are $n$ $j$'s per $i$, and $n+1$ $i$'s. So the leading complexity term of obtaining p(x) is $4n^2$ operations."
   ]
  },
  {
   "cell_type": "markdown",
   "metadata": {},
   "source": [
    "## Resources\n",
    "\n",
    "Theoretical bound on polynomial error, examples and derivation: https://www.math.ust.hk/~mamu/courses/231/Slides/CH03_1B.pdf\n",
    "\n",
    "Function maximization with Wolfram Alpha: http://www.wolframalpha.com/input/?i=max%28third+derivative+of+1%2F%281%2Bx**2%29%29+for+x+from+-1+to+1\n",
    "\n",
    "Exact integral computation with Wolfram Alpha: http://www.wolframalpha.com/input/?i=1%2F%281%2Bx^2%29+integrate+from+-1+to+1\n",
    "\n",
    "Gaussian function/integral: https://en.wikipedia.org/wiki/Gaussian_integral\n",
    "\n",
    "Radial basis function interpolation, low complexity: http://www.bu.edu/tech/support/research/visualization/gallery/petrbf/"
   ]
  }
 ],
 "metadata": {
  "kernelspec": {
   "display_name": "Python 2",
   "language": "python",
   "name": "python2"
  },
  "language_info": {
   "codemirror_mode": {
    "name": "ipython",
    "version": 2
   },
   "file_extension": ".py",
   "mimetype": "text/x-python",
   "name": "python",
   "nbconvert_exporter": "python",
   "pygments_lexer": "ipython2",
   "version": "2.7.11"
  }
 },
 "nbformat": 4,
 "nbformat_minor": 0
}
