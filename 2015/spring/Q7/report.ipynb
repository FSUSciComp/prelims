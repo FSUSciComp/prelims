{
 "cells": [
  {
   "cell_type": "markdown",
   "metadata": {},
   "source": [
    "### Q7\n",
    "solution from Chaolun\n",
    "\n",
    "#### a\n",
    "##### (1)\n",
    "\n",
    "Define $\\omega=\\frac{2\\pi}{T}$, we have:\n",
    "$$\n",
    "f(t)=\\sum_{k=-\\infty}^{\\infty} D_k e^{j\\omega k t}\n",
    "$$\n",
    "where:\n",
    "$$\n",
    "D_0=\\frac{1}{T}\\int_{-\\infty}^{\\infty}f(t)dt\n",
    "$$\n",
    "$$\n",
    "D_k=\\frac{1}{T}\\int_{-\\infty}^{\\infty}f(t)e^{-j\\omega kt}dt \\space\\space\\space (k \\neq 0)\n",
    "$$\n",
    "\n",
    "##### (2)\n",
    "\n",
    "Since the given function only contain sin and cosin terms, its fourier serie has finite non zero terms and the coefficient of its fourier series expansion($D_k$) can be computed analitically.\n",
    "\n",
    "Given that:\n",
    "$$\n",
    "cos(t)=\\frac{1}{2}(e^{jt}+e^{-jt})\n",
    "$$\n",
    "$$\n",
    "sin(t)=\\frac{1}{2j}(e^{jt}-e^{-jt})\n",
    "$$\n",
    "we can have:\n",
    "$$\n",
    "x(t)=12cos(8t)+4cos(5t-\\frac{\\pi}{2})-8sin(10t-\\frac{\\pi}{3})\\\\\n",
    "=6(e^{j8t}+e^{-j8t})+2(e^{j5t-j\\frac{\\pi}{2}}+e^{-j5t+j\\frac{\\pi}{2}})+4j(e^{j10t-j\\frac{\\pi}{3}}-e^{-j10t+j\\frac{\\pi}{3}})\\\\\n",
    "=6e^{j8t}+6e^{-j8t}+2e^{-j\\frac{\\pi}{2}}e^{j5t}+2e^{j\\frac{\\pi}{2}}e^{-j5t}+4je^{-j\\frac{\\pi}{3}}e^{j10t}-4je^{j\\frac{\\pi}{3}}e^{-j10t}\n",
    "$$\n",
    "because $2\\pi$ is a peroid of $x(t)$, we have $\\omega=1$. we can write $x(t)$ as the exponential Fourier series above, which have 6 nonzero terms with $k=8,-8,5,-5,10,-10$\n",
    "\n",
    "#### b\n",
    "\n",
    "$$\n",
    "X(\\omega)=\\int_{-\\infty}^{\\infty}x(t)e^{-j\\omega t}dt \\\\\n",
    "=\\int_{0}^{\\infty}x(t)e^{-j\\omega t}dt+\\int_{-\\infty}^{0}x(t)e^{-j\\omega t}dt \\\\\n",
    "=\\int_{0}^{\\infty}e^{-at}e^{-j\\omega t}dt+0\\\\\n",
    "=\\int_{0}^{\\infty}e^{-at-j\\omega t}dt\\\\\n",
    "=-\\frac{1}{a+j\\omega}e^{-at-j\\omega t}|_0^{\\infty}\\\\\n",
    "=0-(-\\frac{1}{a+j\\omega})\\\\\n",
    "$$\n",
    "So we have:\n",
    "$$\n",
    "X(\\omega)=\\frac{1}{a+j\\omega}\\space\\space\\space(-\\infty<\\omega<\\infty)\n",
    "$$\n"
   ]
  },
  {
   "cell_type": "code",
   "execution_count": null,
   "metadata": {
    "collapsed": true
   },
   "outputs": [],
   "source": []
  }
 ],
 "metadata": {
  "anaconda-cloud": {},
  "kernelspec": {
   "display_name": "Python [default]",
   "language": "python",
   "name": "python3"
  },
  "language_info": {
   "codemirror_mode": {
    "name": "ipython",
    "version": 3
   },
   "file_extension": ".py",
   "mimetype": "text/x-python",
   "name": "python",
   "nbconvert_exporter": "python",
   "pygments_lexer": "ipython3",
   "version": "3.5.2"
  }
 },
 "nbformat": 4,
 "nbformat_minor": 1
}
