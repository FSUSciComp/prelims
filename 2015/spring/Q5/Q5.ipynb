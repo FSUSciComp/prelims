{
 "cells": [
  {
   "cell_type": "markdown",
   "metadata": {},
   "source": [
    "# Q5. Numerical Quadrature (Shanbhag)"
   ]
  },
  {
   "cell_type": "markdown",
   "metadata": {},
   "source": [
    "The radius of gyration $R_G$ of an object is the average distance of points from its center-of-mass, $r_{cm}$.\n",
    "Consider a heart-shaped domain $D \\in R^2$ enclosed by the curve:\n",
    "$$ h(t) = (16\\sin^3(t), 13\\cos(t) - 5\\cos(2t) - 2\\cos(3t) - \\cos(4t)), 0 \\leq t < 2\\pi$$\n",
    "Let $r = (x,y)$ denote a point in $R^2$"
   ]
  },
  {
   "cell_type": "markdown",
   "metadata": {},
   "source": [
    "Let's import our libraries and plot $h(t)$:"
   ]
  },
  {
   "cell_type": "code",
   "execution_count": 1,
   "metadata": {
    "collapsed": true
   },
   "outputs": [],
   "source": [
    "import numpy as np\n",
    "import matplotlib.pyplot as plt\n",
    "%matplotlib inline\n",
    "from __future__ import print_function"
   ]
  },
  {
   "cell_type": "code",
   "execution_count": 2,
   "metadata": {
    "collapsed": true
   },
   "outputs": [],
   "source": [
    "def h(t):\n",
    "    return 16*np.sin(t)**3, 13*np.cos(t) - 5*np.cos(2*t) - 2*np.cos(3*t) - np.cos(4*t)"
   ]
  },
  {
   "cell_type": "code",
   "execution_count": 3,
   "metadata": {
    "collapsed": false
   },
   "outputs": [
    {
     "data": {
      "text/plain": [
       "[<matplotlib.lines.Line2D at 0x7f6bc5525190>]"
      ]
     },
     "execution_count": 3,
     "metadata": {},
     "output_type": "execute_result"
    },
    {
     "data": {
      "image/png": "[encoded data removed]",
      "text/plain": [
       "<matplotlib.figure.Figure at 0x7f6bf8cf5c50>"
      ]
     },
     "metadata": {},
     "output_type": "display_data"
    }
   ],
   "source": [
    "T = np.linspace(0, 2*np.pi, 100)\n",
    "x, y = h(T)\n",
    "plt.plot(x, y)"
   ]
  },
  {
   "cell_type": "markdown",
   "metadata": {},
   "source": [
    "### a. What numerical method do you think is appropiate to use to estimate the area of this heart shaped region? Explain your choice."
   ]
  },
  {
   "cell_type": "markdown",
   "metadata": {},
   "source": [
    "### Answer:\n",
    "Monte Carlo is an appropriate thoice to estimate the area of the region. Despite the problem being 2D, we have a complex boundary, and thus MC will make it easier to deal with this boundary."
   ]
  },
  {
   "cell_type": "markdown",
   "metadata": {},
   "source": [
    "### b. Use your method from (a.) to numerically estimate each of the following integrals to two digits of accuracy."
   ]
  },
  {
   "cell_type": "markdown",
   "metadata": {},
   "source": [
    "### b.i. The area of $D$, given by,\n",
    "$$ A = \\int_{r \\in D} dx dy $$"
   ]
  },
  {
   "cell_type": "markdown",
   "metadata": {},
   "source": [
    "### b.ii. The center of mass,\n",
    "$$ r_{cm} = \\frac{1}{A} \\int_{r \\in D} r dx dy $$"
   ]
  },
  {
   "cell_type": "markdown",
   "metadata": {},
   "source": [
    "### b.iii. The radius of gyration,\n",
    "$$ R^2_G = \\frac{1}{A} \\int_{r \\in D} (r-r_{cm})^2 dx dy $$\n",
    "where $(r-r_{cm})^2$ is the square of the Euclidean distance between $r$ and the center of mass $r_{cm}$."
   ]
  },
  {
   "cell_type": "markdown",
   "metadata": {},
   "source": [
    "### Answer:\n",
    "Since we want to throw random points in $(x, y)$, we would like to have a function that maps $x$ to $t$.\n",
    "\n",
    "We have $$x = 16\\sin^3(t)$$ which means $$t = \\arcsin\\left(\\sqrt[3]{\\frac{x}{16}}\\right)$$\n",
    "So we define this function and call it $g(x)$"
   ]
  },
  {
   "cell_type": "code",
   "execution_count": 4,
   "metadata": {
    "collapsed": true
   },
   "outputs": [],
   "source": [
    "def g(x):\n",
    "    return np.arcsin(np.fabs(x/16.0)**(1/3.0))"
   ]
  },
  {
   "cell_type": "code",
   "execution_count": 5,
   "metadata": {
    "collapsed": false
   },
   "outputs": [],
   "source": [
    "def MC(n_pts):\n",
    "    area_rect = 32**2\n",
    "    x = np.random.uniform(-16, 16, size=n_pts)\n",
    "    y = np.random.uniform(-16, 16, size=n_pts)\n",
    "    t1 = g(x)\n",
    "    t2 = t1-np.pi\n",
    "    _, y1 = h(t1)\n",
    "    _, y2 = h(t2)\n",
    "    cond = (y < y1) & (y > y2)\n",
    "    ratio = np.sum(cond)/float(n_pts)\n",
    "    area = ratio*area_rect\n",
    "    area_err = np.std(cond) * area_rect / np.sqrt(n_pts)\n",
    "    center_x = np.mean(x[cond])\n",
    "    center_y = np.mean(y[cond])\n",
    "    radius_giration = np.mean((x[cond] - center_x)**2) + np.mean((y[cond] - center_y)**2)\n",
    "    \n",
    "    return area, area_err, center_x, center_y, radius_giration"
   ]
  },
  {
   "cell_type": "code",
   "execution_count": 7,
   "metadata": {
    "collapsed": false
   },
   "outputs": [
    {
     "name": "stdout",
     "output_type": "stream",
     "text": [
      "The area of the heart is:  564.4288  +- 5.09308571429\n",
      "The center of mass is:  -0.111139571167 0.826406378685\n",
      "The radius of giration is:  102.536356335\n"
     ]
    }
   ],
   "source": [
    "area, area_err, center_x, center_y, radius = MC(10**4)\n",
    "print(\"The area of the heart is: \", area, \" +-\", area_err)\n",
    "print(\"The center of mass is: \",center_x, center_y)\n",
    "print(\"The radius of giration is: \", radius)"
   ]
  },
  {
   "cell_type": "markdown",
   "metadata": {},
   "source": [
    "### c. Comment on the amount of additional work required to obtain three digits of accuracy."
   ]
  },
  {
   "cell_type": "code",
   "execution_count": 8,
   "metadata": {
    "collapsed": false
   },
   "outputs": [
    {
     "name": "stdout",
     "output_type": "stream",
     "text": [
      "[  1.61908616e+02   5.09433568e+01   1.61221963e+01   5.08915596e+00\n",
      "   1.60983975e+00   5.09253582e-01   1.61022805e-01]\n"
     ]
    },
    {
     "data": {
      "image/png": "[encoded data removed]",
      "text/plain": [
       "<matplotlib.figure.Figure at 0x7f6bc55bec10>"
      ]
     },
     "metadata": {},
     "output_type": "display_data"
    }
   ],
   "source": [
    "n_pts = 10**np.array([1, 2, 3, 4, 5, 6, 7])\n",
    "errors = np.zeros(len(n_pts))\n",
    "for i in range(len(n_pts)):\n",
    "    _, errors[i], _, _, _ = MC(n_pts[i])\n",
    "plt.loglog(n_pts, errors, 'o-')\n",
    "print(errors)"
   ]
  }
 ],
 "metadata": {
  "anaconda-cloud": {},
  "kernelspec": {
   "display_name": "Python 2",
   "language": "python",
   "name": "python2"
  },
  "language_info": {
   "codemirror_mode": {
    "name": "ipython",
    "version": 2
   },
   "file_extension": ".py",
   "mimetype": "text/x-python",
   "name": "python",
   "nbconvert_exporter": "python",
   "pygments_lexer": "ipython2",
   "version": "2.7.11"
  }
 },
 "nbformat": 4,
 "nbformat_minor": 0
}
