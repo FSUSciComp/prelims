{
 "cells": [
  {
   "cell_type": "markdown",
   "metadata": {},
   "source": [
    "### Q8\n",
    "Solution from Chaolun"
   ]
  },
  {
   "cell_type": "markdown",
   "metadata": {},
   "source": [
    "#### a)\n",
    "The necessary condition is:\n",
    "$$\n",
    "\\nabla_xP(x,\\rho)=0\n",
    "$$\n",
    "which gives:\n",
    "$$\n",
    "-x_2+\\rho(x_1+2x_2-4)=0\n",
    "$$\n",
    "$$\n",
    "-x_1+2\\rho(x_1+2x_2-4)=0\n",
    "$$\n",
    "Solve the two equations above, we can get:\n",
    "$$\n",
    "x_1=\\frac{8\\rho}{4\\rho-1}\n",
    "$$\n",
    "$$\n",
    "x_2=\\frac{4\\rho}{4\\rho-1}\n",
    "$$\n",
    "given the condition $\\rho >0.25$.\n",
    "\n",
    "Based on the necessary condition, we can know that:\n",
    "$$\n",
    "x_1=2x_2\n",
    "$$\n",
    "together with the constrain that:\n",
    "$$\n",
    "x_1+2x_2-4=0\n",
    "$$\n",
    "We can get:\n",
    "$$\n",
    "x_1=2\n",
    "$$\n",
    "$$\n",
    "x_2=1\n",
    "$$"
   ]
  },
  {
   "cell_type": "markdown",
   "metadata": {},
   "source": [
    "#### b)\n",
    "Accoring to the given cost function, we can calculate the Hessian matrix:\n",
    "$$\n",
    "H(x)=\\nabla_x^2P(x,\\rho)=\n",
    "\\begin{bmatrix}\n",
    "    \\rho & 2\\rho-1\\\\\n",
    "    2\\rho-1 & 4\\rho\\\\\n",
    "\\end{bmatrix}\n",
    "$$\n",
    "Using Matlab symbolic toolbox, we can calculate the eigen value of H(x):\n",
    "$$\n",
    "\\lambda_{max}=5\\rho/2+0.5\\sqrt{25\\rho^2-16\\rho+4}\n",
    "$$\n",
    "$$\n",
    "\\lambda_{min}=5\\rho/2-0.5\\sqrt{25\\rho^2-16\\rho+4}\n",
    "$$\n",
    "The condition number of H(x) can be calculated by:\n",
    "$$\n",
    "cond(H(x))=\\frac{||\\lambda_{max}||}{||\\lambda_{min}||}\\\\\n",
    "=\\frac{5\\rho/2+0.5\\sqrt{25\\rho^2-16\\rho+4}}{5\\rho/2-0.5\\sqrt{25\\rho^2-16\\rho+4}}\\\\\n",
    "=\\frac{50\\rho^2-16\\rho+4+10\\rho\\sqrt{25\\rho^2-16\\rho+4}}{16\\rho-4}\n",
    "$$\n",
    "In punish method, to make sure that the constriction holds, $\\rho$ has always been choizen as a large number. So we only need to consider the leading term to do approximation.We have:\n",
    "$$\n",
    "cond(H(x)) \\approx \\frac{100 \\rho^2}{16\\rho}=\\frac{25 \\rho}{4}\n",
    "$$"
   ]
  },
  {
   "cell_type": "markdown",
   "metadata": {},
   "source": [
    "#### c)\n",
    "When $\\rho \\to \\infty$, we have $cond(H(x)) \\to \\infty$, which leads to ill conditioning of the penalty method. Because  cond(H)is defined by: $\\lambda_{max}(H)/\\lambda_{min}(H)$ , thus if the condition number is large, which means the eigen values varies a lot, the Hessian matrix will resize the length of the vector $\\Delta f$ very differently based on the direction of $\\Delta f$. If the direction of $\\Delta f$ is approximate to the eigenvector corresponding to the $\\lambda_{max}(H)$, the length of $H\\Delta f$ could be much larger compared to $\\Delta f$, thus lead to unstable."
   ]
  }
 ],
 "metadata": {
  "anaconda-cloud": {},
  "kernelspec": {
   "display_name": "Python [default]",
   "language": "python",
   "name": "python3"
  },
  "language_info": {
   "codemirror_mode": {
    "name": "ipython",
    "version": 3
   },
   "file_extension": ".py",
   "mimetype": "text/x-python",
   "name": "python",
   "nbconvert_exporter": "python",
   "pygments_lexer": "ipython3",
   "version": "3.5.2"
  }
 },
 "nbformat": 4,
 "nbformat_minor": 1
}
