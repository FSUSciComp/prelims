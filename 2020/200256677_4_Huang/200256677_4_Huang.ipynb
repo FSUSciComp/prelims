{
 "cells": [
  {
   "cell_type": "code",
   "execution_count": 2,
   "metadata": {},
   "outputs": [],
   "source": [
    "import numpy as np\n",
    "import matplotlib.pyplot as plt"
   ]
  },
  {
   "cell_type": "markdown",
   "metadata": {},
   "source": [
    "## Part 1 - Case N=6\n",
    "\n",
    "On the domain $[0,10]$ where $V(x) = 0$:\n",
    "\n",
    "$$\n",
    "-\\frac{d^2}{dx^2}\\phi(x) = E\\phi(x)\n",
    "$$\n",
    "\n",
    "Applying centered difference scheme,\n",
    "\n",
    "$$\n",
    "\\frac{-1}{h^2}(\\phi(x - h) - 2 \\phi(x) + \\phi(x + h)) = E\\phi(x)\n",
    "$$\n",
    "\n",
    "Discretizing in space,\n",
    "\n",
    "$$\n",
    "\\frac{-1}{h^2}(\\phi_{i-1} + 2 \\phi_i + \\phi_{i+1}) = E\\phi_i\n",
    "$$\n",
    "\n",
    "where $\\phi_i = \\phi(x_i)$, and $i \\in [0, 1, ... , N]$."
   ]
  },
  {
   "cell_type": "code",
   "execution_count": 3,
   "metadata": {},
   "outputs": [
    {
     "name": "stdout",
     "output_type": "stream",
     "text": [
      "[[ 0.72 -0.36 -0.   -0.   -0.  ]\n",
      " [-0.36  0.72 -0.36 -0.   -0.  ]\n",
      " [-0.   -0.36  0.72 -0.36 -0.  ]\n",
      " [-0.   -0.   -0.36  0.72 -0.36]\n",
      " [-0.   -0.   -0.   -0.36  0.72]]\n"
     ]
    }
   ],
   "source": [
    "a = 0; b = 10; N = 6\n",
    "# discretize domain [a,b] into N+1 points\n",
    "x = np.linspace(a,b,N+1)\n",
    "h = (b - a) / N\n",
    "\n",
    "# generate (N-1) by (N-1) centered difference matrix scaled by 1/h^2\n",
    "# dropped from N+1 points to N-1 points since boundary points are zero\n",
    "A = -1 / h**2 * (np.diag(np.ones(N-2), -1) + np.diag(np.ones(N-2), 1) - 2 * np.diag(np.ones(N-1), 0))\n",
    "\n",
    "print(A)"
   ]
  },
  {
   "cell_type": "markdown",
   "metadata": {},
   "source": [
    "## Part 2 - Case N=200"
   ]
  },
  {
   "cell_type": "code",
   "execution_count": 200,
   "metadata": {
    "scrolled": false
   },
   "outputs": [
    {
     "data": {
      "text/plain": [
       "[<matplotlib.lines.Line2D at 0x7f6e822f7a10>]"
      ]
     },
     "execution_count": 200,
     "metadata": {},
     "output_type": "execute_result"
    },
    {
     "data": {
      "image/png": "[encoded data removed]",
      "text/plain": [
       "<Figure size 432x288 with 1 Axes>"
      ]
     },
     "metadata": {
      "needs_background": "light"
     },
     "output_type": "display_data"
    }
   ],
   "source": [
    "a = 0; b = 10; N = 200\n",
    "# discretize domain [a,b] into N+1 points\n",
    "x = np.linspace(a,b,N+1)\n",
    "h = (b - a) / N\n",
    "\n",
    "# generate (N-1) by (N-1) centered difference matrix scaled by 1/h^2\n",
    "# dropped from N+1 points to N-1 points since boundary points are zero\n",
    "A = -1 / h**2 * (np.diag(np.ones(N-2), -1) + np.diag(np.ones(N-2), 1) - 2 * np.diag(np.ones(N-1), 0))\n",
    "\n",
    "# find the smallest eigenvalue\n",
    "eigs = np.linalg.eigh(A)\n",
    "E = min(eigs[0])\n",
    "# get the index of the smallest eigenvalue\n",
    "for i in range(len(eigs[0])):\n",
    "        if eigs[0][i] == E:\n",
    "            E_index = i\n",
    "# get the corresponding eigenvector\n",
    "eigenvector = eigs[1][:,E_index]\n",
    "\n",
    "# plot the solution (the eigenvector)\n",
    "plt.plot(x[1:-1], eigenvector)"
   ]
  },
  {
   "cell_type": "code",
   "execution_count": null,
   "metadata": {},
   "outputs": [],
   "source": []
  }
 ],
 "metadata": {
  "kernelspec": {
   "display_name": "Python 3",
   "language": "python",
   "name": "python3"
  },
  "language_info": {
   "codemirror_mode": {
    "name": "ipython",
    "version": 3
   },
   "file_extension": ".py",
   "mimetype": "text/x-python",
   "name": "python",
   "nbconvert_exporter": "python",
   "pygments_lexer": "ipython3",
   "version": "3.7.6"
  }
 },
 "nbformat": 4,
 "nbformat_minor": 4
}
