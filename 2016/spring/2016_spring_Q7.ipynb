{
 "cells": [
  {
   "cell_type": "markdown",
   "metadata": {
    "deletable": true,
    "editable": true
   },
   "source": [
    "# Q7. Linear Algebra (Dr. Burkardt)"
   ]
  },
  {
   "cell_type": "markdown",
   "metadata": {
    "deletable": true,
    "editable": true
   },
   "source": [
    "_Background_: The matrix eigenvalue problem considers the equation\n",
    "\n",
    "$$\n",
    "Ax = \\lambda x\n",
    "$$\n",
    "\n",
    "where $A$ is a given $n$ by $n$ matrix, while $\\lambda$ and $x$ are an unknown scalar and vector respectively.\n",
    "To avoid the trivial solution $x = 0$, we must impose some additional condition on\n",
    "$x$ to guarantee that it is not completely zero. Here, we choose to require $\\rvert\\rvert x\\rvert\\rvert_2 = 1$. There\n",
    "is always at least one, and there may be as many as $n$ distinct solutions to this problem.\n",
    "Even if the given matrix $A$ is real, it may be the case that some of the solutions require\n",
    "complex arithmetic.\n",
    "\n",
    "A _Newton-method approach_: The matrix eigenvalue problem is equivalent to the following\n",
    "multidimensional nonlinear equation problem: Find $v = (x, \\lambda)$ such that\n",
    "\n",
    "$$\n",
    "f(v) = \n",
    "\\begin{pmatrix}\n",
    "Ax - \\lambda x \\\\\n",
    "x^{\\prime}x -1 \n",
    "\\end{pmatrix}\n",
    "=0\n",
    "$$\n",
    "\n",
    "Because we can regard this as a multidimensional nonlinear equation, we can apply the\n",
    "multidimensional version of Newton’s method."
   ]
  },
  {
   "cell_type": "markdown",
   "metadata": {
    "deletable": true,
    "editable": true
   },
   "source": [
    "**A:** In order to carry out the Newton method, we need to determine the form of the Jacobian\n",
    "matrix $J_{i,j} = \\frac{\\partial f_i} {\\partial v_j}$. For the eigenvalue problem, what is $J$? (You should be able to express\n",
    "your answer as a 2x2 block matrix. Be precise in giving the values and shapes of the entries!)"
   ]
  },
  {
   "cell_type": "markdown",
   "metadata": {
    "deletable": true,
    "editable": true
   },
   "source": [
    "**Answer A:**\n",
    "\n",
    "$$\n",
    "J = \n",
    "\\begin{pmatrix}\n",
    "\\frac{\\partial f_1}{\\partial x} &  \\frac{\\partial f_1}{\\partial \\lambda} \\\\\n",
    "\\frac{\\partial f_2}{\\partial x} &  \\frac{\\partial f_2}{\\partial \\lambda}\n",
    "\\end{pmatrix}\n",
    "= \n",
    "\\begin{pmatrix}\n",
    "A - \\lambda I & -x \\\\\n",
    "2x^{\\prime} & 0\n",
    "\\end{pmatrix}\n",
    "$$"
   ]
  },
  {
   "cell_type": "markdown",
   "metadata": {
    "deletable": true,
    "editable": true
   },
   "source": [
    "**B:** Suppose $B_n$ is the tridiagonal matrix with entries -1, 2, -1. Suppose we are interested\n",
    "in solving the eigenvalue problem for this matrix. What facts can we immediately state,\n",
    "without computation, about the eigenvalues and eigenvectors of this matrix?"
   ]
  },
  {
   "cell_type": "markdown",
   "metadata": {
    "deletable": true,
    "editable": true
   },
   "source": [
    "**Answer B:** It's important that $B_n$ is symmetric. This means that there is a complete set of $n$ eigenvectors, that the eigenvectors can\n",
    "be chosen to be orthogonal, and that all the eigenvalues are real."
   ]
  },
  {
   "cell_type": "markdown",
   "metadata": {
    "deletable": true,
    "editable": true
   },
   "source": [
    "**C:** Write a program that takes as input a 2x2 matrix $A$, initial guesses $\\lambda_0$ and $x_0$, and\n",
    "applies $m$ steps of the Newton iteration, seeking a solution to the eigenvalue problem. At\n",
    "each step, print out $\\rvert \\rvert f(v^k) \\rvert \\rvert_2$, \n",
    "the $l_2$ norm of the residual. Print a copy of your program\n",
    "and submit it with your work."
   ]
  },
  {
   "cell_type": "markdown",
   "metadata": {
    "deletable": true,
    "editable": true
   },
   "source": [
    "**Answer C:**"
   ]
  },
  {
   "cell_type": "code",
   "execution_count": 1,
   "metadata": {
    "collapsed": true,
    "deletable": true,
    "editable": true
   },
   "outputs": [],
   "source": [
    "import numpy as np\n",
    "\n",
    "def calc_f(A, v):\n",
    "    '''\n",
    "    Calculates the functional form of the eigenvalue problem\n",
    "    '''\n",
    "    n = len(A)\n",
    "    return   np.append(A.dot(v[:n]) - v[n] * v[:n], v[:n].dot(v[:n]) - 1)\n",
    "\n",
    "def calc_J(A, v):\n",
    "    '''\n",
    "    Calculates the Jacobian matrix for the eigenvalue problem\n",
    "    '''\n",
    "    n = len(A)\n",
    "    J = np.zeros((n+1,n+1))\n",
    "\n",
    "    J[ :n, :n] = A - v[n] * np.eye(n)\n",
    "    J[ :n,  n] = -v[:n]\n",
    "    J[  n, :n] = 2*v[:n]\n",
    "    \n",
    "    return J\n",
    "\n",
    "def Q7(A, lam_0, x_0, m):\n",
    "    '''\n",
    "    A program that takes as input a 2x2 matrix A, initial guesses\n",
    "    lam_0 and x_0, and applies m steps of the Newton iteration, seeking a solution to\n",
    "    the eigenvalue problem. At each step, it prints out ||f(v^k )||_2, the l2 norm of the\n",
    "    residual. Returns a vector v which holds [x_1, x_2, lam]\n",
    "    '''\n",
    "    v = np.append(x_0, lam_0)\n",
    "    for i in range(m):\n",
    "        J_k = calc_J(A, v)\n",
    "        F_k = calc_f(A, v)\n",
    "        \n",
    "        dv = np.linalg.solve(J_k, -F_k)\n",
    "        \n",
    "        v += dv\n",
    "        print 'Step: {}, L-2 norm: {}'.format(i+1, np.linalg.norm(calc_f(A, v)))\n",
    "        \n",
    "    return v"
   ]
  },
  {
   "cell_type": "markdown",
   "metadata": {
    "deletable": true,
    "editable": true
   },
   "source": [
    "**D:** Run the program you wrote for question C, using the matrix $B_2$, which is simply\n",
    "\n",
    "$$\n",
    "\\begin{pmatrix}\n",
    "2 &−1\\\\\n",
    "−1& 2\n",
    "\\end{pmatrix}\n",
    "$$\n",
    "\n",
    "an initial eigenvalue estimate $\\lambda_0 = 1.5$, an initial eigenvector estimate $x_0 = (1, 2)$. After taking $m = 10$ steps, list $\\lambda$, $x$, $\\rvert \\rvert f \\rvert \\rvert_2$."
   ]
  },
  {
   "cell_type": "markdown",
   "metadata": {
    "deletable": true,
    "editable": true
   },
   "source": [
    "**Answer D:**"
   ]
  },
  {
   "cell_type": "code",
   "execution_count": 2,
   "metadata": {
    "collapsed": false,
    "deletable": true,
    "editable": true
   },
   "outputs": [
    {
     "name": "stdout",
     "output_type": "stream",
     "text": [
      "Step: 1, L-2 norm: 1.24189892673\n",
      "Step: 2, L-2 norm: 0.183548843697\n",
      "Step: 3, L-2 norm: 0.00741715879588\n",
      "Step: 4, L-2 norm: 1.52537483972e-05\n",
      "Step: 5, L-2 norm: 6.6266665066e-11\n",
      "Step: 6, L-2 norm: 2.22044604925e-16\n",
      "Step: 7, L-2 norm: 2.22044604925e-16\n",
      "Step: 8, L-2 norm: 2.22044604925e-16\n",
      "Step: 9, L-2 norm: 2.22044604925e-16\n",
      "Step: 10, L-2 norm: 2.22044604925e-16\n",
      "---------------- \n",
      "Final Solution: \n",
      "----------------\n",
      "Lambda = 1.0 \n",
      "x = [ 0.70710678  0.70710678] \n",
      "L2-norm of f = 2.22044604925e-16\n"
     ]
    }
   ],
   "source": [
    "# Initial guesses\n",
    "x_0 = np.array([1., 2.])\n",
    "lam_0 = 1.5\n",
    "\n",
    "B2 = np.array([[ 2., -1.],\n",
    "               [-1.,  2.]])\n",
    "\n",
    "v = Q7(B2, lam_0, x_0, 10)\n",
    "\n",
    "n = len(B2)\n",
    "print '---------------- \\nFinal Solution: \\n----------------'\n",
    "print 'Lambda = {} \\nx = {} \\nL2-norm of f = {}'.format(v[n], \n",
    "                                                      v[:n],\n",
    "                                                      np.linalg.norm(calc_f(B2, v)) )"
   ]
  },
  {
   "cell_type": "markdown",
   "metadata": {
    "deletable": true,
    "editable": true
   },
   "source": [
    "**E:** Repeat question D, but now use the matrix\n",
    "\n",
    "$$\n",
    "C_2 =\n",
    "\\begin{pmatrix}\n",
    "3 & −2 \\\\\n",
    "4 & −1\n",
    "\\end{pmatrix}\n",
    "$$"
   ]
  },
  {
   "cell_type": "markdown",
   "metadata": {
    "deletable": true,
    "editable": true
   },
   "source": [
    "**Answer E:**"
   ]
  },
  {
   "cell_type": "code",
   "execution_count": 3,
   "metadata": {
    "collapsed": false,
    "deletable": true,
    "editable": true
   },
   "outputs": [
    {
     "name": "stdout",
     "output_type": "stream",
     "text": [
      "Step: 1, L-2 norm: 298.135875064\n",
      "Step: 2, L-2 norm: 75.3577276909\n",
      "Step: 3, L-2 norm: 19.4736290693\n",
      "Step: 4, L-2 norm: 5.19339393185\n",
      "Step: 5, L-2 norm: 1.6194522086\n",
      "Step: 6, L-2 norm: 1.028499341\n",
      "Step: 7, L-2 norm: 2.07067066508\n",
      "Step: 8, L-2 norm: 0.873553473742\n",
      "Step: 9, L-2 norm: 7.25455471482\n",
      "Step: 10, L-2 norm: 2.0535406256\n",
      "---------------- \n",
      "Final Solution: \n",
      "----------------\n",
      "Lambda = 3.3885790656 \n",
      "x = [ 0.9905449   0.65940019] \n",
      "L2-norm of f = 2.0535406256\n"
     ]
    }
   ],
   "source": [
    "C = np.array([[ 3., -2.],\n",
    "              [ 4., -1.]])\n",
    "\n",
    "v = Q7(C, lam_0, x_0, 10)\n",
    "\n",
    "n = len(C)\n",
    "print '---------------- \\nFinal Solution: \\n----------------'\n",
    "print 'Lambda = {} \\nx = {} \\nL2-norm of f = {}'.format(v[n], \n",
    "                                                      v[:n],\n",
    "                                                      np.linalg.norm(calc_f(C, v)) )"
   ]
  },
  {
   "cell_type": "markdown",
   "metadata": {
    "deletable": true,
    "editable": true
   },
   "source": [
    "**F:** Presumably, your Newton iteration for question E does not seem to converge. Give at\n",
    "least three reasons why any Newton iteration might not seem to be converging after a fixed\n",
    "number of steps. Then state a convincing reason why this Newton iteration, with the given\n",
    "initial data, will _never_ converge."
   ]
  },
  {
   "cell_type": "markdown",
   "metadata": {
    "deletable": true,
    "editable": true
   },
   "source": [
    "**Answer F:**\n",
    "\n",
    "Possible reasons why Newton convergence might not be observed:\n",
    "\n",
    "- If the initial estimate is too far away, then convergence is not guaranteed\n",
    "- A Newton method can occasionally get into a cycle\n",
    "- The jacobian might become singular\n",
    "- In particular, if there are multiple roots (multiple eigenvalues) then $A − \\lambda I$ will become singular as we approach a solution, making the jacobian singular\n",
    "- If convergence is slow, then we may simply not have waited long enough\n",
    "- There might be no solution\n",
    "- The solution might be complex\n",
    "\n",
    "In this case, however, we can verify that the eigenvalues of $C_2$ are the complex\n",
    "pair $\\lambda = 1 \\pm 2i$. Our Newton method uses real data, and cannot compute a\n",
    "complex result. Therefore, no convergence is possible."
   ]
  }
 ],
 "metadata": {
  "anaconda-cloud": {},
  "kernelspec": {
   "display_name": "Python [default]",
   "language": "python",
   "name": "python3"
  },
  "language_info": {
   "codemirror_mode": {
    "name": "ipython",
    "version": 3
   },
   "file_extension": ".py",
   "mimetype": "text/x-python",
   "name": "python",
   "nbconvert_exporter": "python",
   "pygments_lexer": "ipython3",
   "version": "3.5.2"
  }
 },
 "nbformat": 4,
 "nbformat_minor": 0
}
