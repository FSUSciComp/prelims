{
 "cells": [
  {
   "cell_type": "markdown",
   "metadata": {},
   "source": [
    "# Q2. Numerical Quadrature (Dr. Peterson)"
   ]
  },
  {
   "cell_type": "markdown",
   "metadata": {},
   "source": [
    "## (a)\n",
    "We are given the trapezoidal quadrature method below\n",
    "\\begin{equation*}\n",
    "I(f) = \\int_a^b f(x) dx = \\dfrac{b-a}{2} \\left[f(a) + f(b)\\right] + K_1(b-a)^2 +\n",
    "K_2(b-a)^4 + \\dots\n",
    "\\end{equation*}\n",
    "If we divide our domain $[a,b]$ using $M$ subintervals of length $h$, we can\n",
    "evaluate the approximation $\\hat{I}_h(f)$ for each subinterval and sum these\n",
    "values over the entire domain to get $\\hat{I}(f)$. The first error term is given\n",
    "$\\frac{f''(\\xi)(b-a)}{12}(b-a)^2$ which we can use to evaluate the equispaced\n",
    "trapezoid formula.\n",
    "\\begin{equation*}\n",
    "\\hat{I}(f) = \\sum_{i=1}^{M} \\left( \\dfrac{h}{2} \\left[f(a+h(i-1)) +\n",
    "f(a+hi)\\right] + \\dfrac{f''(\\xi)h^3}{12} \\right)\n",
    "\\end{equation*}\n",
    "We should get 2nd order accuracy for this method."
   ]
  },
  {
   "cell_type": "markdown",
   "metadata": {
    "collapsed": true
   },
   "source": [
    "## b)\n",
    "The approximation $\\hat{I}(f)$ above is equivalent to $T_{M,1}$ for this\n",
    "problem. To get $T_{2M,1}$ we sum over $2M$ intervals of length $h/2$.\n",
    "\\begin{equation*}\n",
    "\\begin{split}\n",
    "T_{M,1} &= \\sum_{i=1}^{M} \\left( \\dfrac{h}{2} \\left[f(a+h(i-1)) + f(a+hi)\\right]\n",
    "+ \\dfrac{f''(\\xi)h^3}{12} + K_2h^4 \\right) \\\\\n",
    "&= \\sum_{i=1}^{M} \\dfrac{h}{2} \\left[f(a+h(i-1)) + f(a+hi)\\right] +\n",
    "\\dfrac{Mf''(\\xi)h^3}{12} + MK_2h^4\n",
    "\\end{split}\n",
    "\\end{equation*}\n",
    "\\begin{equation*}\n",
    "\\begin{split}\n",
    "T_{2M,1} &= \\sum_{i=1}^{2M} \\left( \\dfrac{h}{4} \\left[f(a+\\frac{h(i-1)}{2}) +\n",
    "f(a+\\frac{hi}{2})\\right] + \\dfrac{f''(\\xi)h^3}{96} + K_2h^4 \\right) \\\\\n",
    "&= \\sum_{i=1}^{2M} \\dfrac{h}{4} \\left[f(a+\\frac{h(i-1)}{2}) +\n",
    "f(a+\\frac{hi}{2})\\right] + \\dfrac{2Mf''(\\xi)h^3}{96} + 2MK_2h^4\n",
    "\\end{split}\n",
    "\\end{equation*}\n",
    "We can subtract $T_{M,1}$ from $T_{2M,1}$ in the following manner so that the\n",
    "coefficients for both methods add up to 1.\n",
    "\\begin{equation*}\n",
    "\\begin{split}\n",
    "T_{2M,2} &= \\dfrac{4}{3} \\left( T_{2M,1}-\\dfrac{T_{M,1}}{4} \\right) \\\\\n",
    "&= \\dfrac{4}{3} \\sum_{i=1}^{2M} \\dfrac{h}{4} \\left[f(a+\\frac{h(i-1)}{2}) +\n",
    "f(a+\\frac{hi}{2})\\right] \\\\ &\\hspace{1em} - \\dfrac{1}{3} \\sum_{i=1}^{M}\n",
    "    \\dfrac{h}{2} \\left[f(a+h(i-1)) + f(a+hi)\\right] + \\dfrac{8MK_2h^4}{3} -\n",
    "    \\dfrac{MK_2h^4}{12}\n",
    "\\end{split}\n",
    "\\end{equation*}\n",
    "We should get a 4th order accuracy for this combined method."
   ]
  },
  {
   "cell_type": "markdown",
   "metadata": {
    "collapsed": true
   },
   "source": [
    "## c)\n",
    "\n",
    "The following output shows the convergence rates for part a and b approaching 2 and 4 respectively:"
   ]
  },
  {
   "cell_type": "code",
   "execution_count": 9,
   "metadata": {
    "collapsed": true
   },
   "outputs": [],
   "source": [
    "import numpy as np\n",
    "\n",
    "def f(x):\n",
    "    f = np.sin(np.pi * x) # function\n",
    "    return f\n",
    "  \n",
    "def exact():\n",
    "    exact = 0.6366197723675814\n",
    "    return exact\n",
    "  \n",
    "def trap(a, b, M):\n",
    "    hs = np.linspace(a, b, M+1)\n",
    "    h = hs[1] - hs[0]\n",
    "    s = 0\n",
    "    for i in range(hs.size-1):\n",
    "        s += h/2 * ( f(hs[i]) + f(hs[i+1]) )\n",
    "    return s\n",
    "  \n",
    "def rate(errors):\n",
    "    rate = np.array([])\n",
    "    for i in range(errors.size-1):\n",
    "        rate = np.append(rate, np.log(errors[i] / errors[i+1]) / np.log(2))\n",
    "    print rate\n",
    "    return rate"
   ]
  },
  {
   "cell_type": "markdown",
   "metadata": {},
   "source": [
    "### i."
   ]
  },
  {
   "cell_type": "code",
   "execution_count": 7,
   "metadata": {
    "collapsed": false
   },
   "outputs": [
    {
     "name": "stdout",
     "output_type": "stream",
     "text": [
      "[ 2.22026567  2.0467292   2.01125847  2.00278934]\n"
     ]
    }
   ],
   "source": [
    "a = 0\n",
    "b = 1\n",
    "Ms = np.array([1, 2, 4, 8, 16])\n",
    "errors = np.array([])\n",
    "for M in Ms:\n",
    "    s = trap(a, b, M)\n",
    "    errors = np.append(errors, np.abs(s - exact()))\n",
    "rates = rate(errors)\n"
   ]
  },
  {
   "cell_type": "markdown",
   "metadata": {},
   "source": [
    "### ii."
   ]
  },
  {
   "cell_type": "code",
   "execution_count": 10,
   "metadata": {
    "collapsed": false
   },
   "outputs": [
    {
     "name": "stdout",
     "output_type": "stream",
     "text": [
      "[ 4.3716838   4.08236705  4.02004043  4.00497702]\n"
     ]
    }
   ],
   "source": [
    "a = 0\n",
    "b = 1\n",
    "Ms = np.array([1, 2, 4, 8, 16])\n",
    "Ms_2 = Ms[:] * 2\n",
    "errors = np.array([])\n",
    "for i in range(Ms_2.size):\n",
    "    s1 = trap(a, b, Ms[i])\n",
    "    s2 = trap(a, b, Ms_2[i])\n",
    "    s = 4.0*(s2 - 1.0/4.0 * s1)/3.0\n",
    "    errors = np.append(errors, np.abs(s - exact()))\n",
    "rates = rate(errors)"
   ]
  },
  {
   "cell_type": "markdown",
   "metadata": {
    "collapsed": true
   },
   "source": [
    "## d)\n",
    "We can use Romberg integration to combine approximations $T_{k,i}$ where i is\n",
    "the new i'th `sequence`. In the pseudo code below, m represents the number of\n",
    "step sizes.\n",
    "\n",
    "    for all i in i's\n",
    "      for all m in M's\n",
    "        T_[m_next,i] = (4 ** (i-1) * T_[m_next] ** (i-1) - T_[m] ** (i-1)) / 4 ** (i-1) - 1\n",
    "      end\n",
    "    end\n",
    "For this particular problem with $i=3$, this reduces to a program with one for loop.\n",
    "\n",
    "    for all m in M's\n",
    "      T_[m_next] = (4 ** 2 * T_[m_next] ** 2 - T_[m] ** 2) / 4 ** 2 - 1\n",
    "    end"
   ]
  }
 ],
 "metadata": {
  "kernelspec": {
   "display_name": "Python 2",
   "language": "python",
   "name": "python2"
  },
  "language_info": {
   "codemirror_mode": {
    "name": "ipython",
    "version": 2
   },
   "file_extension": ".py",
   "mimetype": "text/x-python",
   "name": "python",
   "nbconvert_exporter": "python",
   "pygments_lexer": "ipython2",
   "version": "2.7.11"
  }
 },
 "nbformat": 4,
 "nbformat_minor": 0
}
