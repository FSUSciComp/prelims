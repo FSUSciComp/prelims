{
 "cells": [
  {
   "cell_type": "markdown",
   "metadata": {},
   "source": [
    "# Q3. Numerical Integration (Dr. Shanbhag)"
   ]
  },
  {
   "cell_type": "markdown",
   "metadata": {},
   "source": [
    "Consider the probability distribution,\n",
    "$$ \\pi(x,y) = \\frac{1}{C} e^{-\\frac{1}{2}(x^2 y^2 + x^2 + y^2 - 8x - 8y)}$$\n",
    "where $-\\infty < x$, $y < \\infty$, and $C \\approx 20216.34$ is a normalization constant. \\\\\n",
    "Find the expected value of $x$, $E[x]$, which is given by the integral,\n",
    "$$E[x] = \\int^\\infty_{-\\infty} \\int^\\infty_{-\\infty} x \\pi(x,y) dx dy$$\n",
    "to an accuracy of $10^{-3}$"
   ]
  }
 ],
 "metadata": {
  "kernelspec": {
   "display_name": "Python 2",
   "language": "python",
   "name": "python2"
  },
  "language_info": {
   "codemirror_mode": {
    "name": "ipython",
    "version": 2
   },
   "file_extension": ".py",
   "mimetype": "text/x-python",
   "name": "python",
   "nbconvert_exporter": "python",
   "pygments_lexer": "ipython2",
   "version": "2.7.10"
  }
 },
 "nbformat": 4,
 "nbformat_minor": 0
}
