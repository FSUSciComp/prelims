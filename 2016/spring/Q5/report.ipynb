{
 "cells": [
  {
   "cell_type": "markdown",
   "metadata": {},
   "source": [
    "### Q5\n",
    "\n",
    "#### 1)\n",
    "Suppose you have a data distribution x, and a model $f(x|\\theta)$ which you want to test your data on. A confidence interval is a type of interval estimate that is computed form the observed data, which contain the true value of $\\theta$. For example, 95% Confidence interval is the region where there is 95% percent of chance that the value of $\\theta$ belongs to this region. On the other hand, the credible interval is an interval in the domain of a posterior probability distribution of $\\theta$, this is a concept from Bayesian statistic. The most significant differences are:\n",
    "\n",
    "(1)in confidenc interval, $\\theta$ is treated as a fixed value, which means $\\theta$ is either belongs to this region or not.\n",
    "\n",
    "in credible interval, $\\theta$ itself has been treated as a random variable, the credible interval is a subdomain of its probability desity function.\n",
    "\n",
    "(2)the credible interval is not only depends on the data, but also depends on the the prior distribution of $\\theta$\n",
    "\n",
    "#### 2)\n",
    "The confidence interval can be calculated using the central limit theorem(assume gaussian distribution),which has the formular:\n",
    "$$\n",
    "\\bar{\\theta}-t\\frac{s}{\\sqrt{n}}<\\theta<\\bar{\\theta}+t\\frac{s}{\\sqrt{n}}\n",
    "$$\n",
    "where $\\bar{\\theta}$ is the average of $\\theta$,each for a value of x. s is the standard deviation, n is the sample size. We can get the value of t from online t table given the required confidence level.\n",
    "\n",
    "To calculate the credible interval, we need to use the prior distribution of $\\theta$ and the given data to calculate the posterior distribution:\n",
    "$$\n",
    "f(\\theta|x)\\propto f(\\theta)f(x|\\theta)\n",
    "$$\n",
    "after get the posterior distribution of $\\theta$, we can specify a certain credible interval of the posterior distribution, which usually contain the region near the peak from the point estimate.\n",
    "\n",
    "#### 3)\n",
    "\n",
    "This two concept are differes from philosophical basis, so they cannot be the same under any circumstances. They can have the same value considentally, when the sample distribution happens to be the same as the posterial distribution $f(\\theta|x)$.\n",
    "\n",
    "#### 4)\n",
    "The two kinds of interval are different because of the credible interval considers the $\\theta$ as a random variable. It also considered the possibility of which model is accurate not only based on data, but also based on the former experience(which contains in prior distribution).\n",
    "    "
   ]
  }
 ],
 "metadata": {
  "kernelspec": {
   "display_name": "Python [default]",
   "language": "python",
   "name": "python3"
  },
  "language_info": {
   "codemirror_mode": {
    "name": "ipython",
    "version": 3
   },
   "file_extension": ".py",
   "mimetype": "text/x-python",
   "name": "python",
   "nbconvert_exporter": "python",
   "pygments_lexer": "ipython3",
   "version": "3.5.2"
  }
 },
 "nbformat": 4,
 "nbformat_minor": 1
}
