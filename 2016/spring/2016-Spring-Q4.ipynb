{
 "cells": [
  {
   "cell_type": "markdown",
   "metadata": {},
   "source": [
    "# Q4. ODE's (Spectral Deferred Correction or SDC)\n",
    "\n",
    "Consider taking a single time step size of $\\Delta t<1$ for the ODE \n",
    "\n",
    "\\begin{gathered}\n",
    "y'(t)=f(t,y)=y(t)^2, \\\\\n",
    "y(0)=1,\\\\\n",
    "y(t)=(1-t)^{-1}.\n",
    "\\end{gathered}\n",
    "\n",
    "For stability reasons this ODE is typically cast into the from of a Picard Integral,\n",
    "\\begin{equation}\n",
    "y(t)=y(0)+\\int_0^t(y(\\tau))^2 d\\tau,\\quad t\\in[0,\\Delta t].\n",
    "\\end{equation}\n",
    "In this form the SDC can be performed to produce a higher order time stepping method from several lower order time stepping iterations. "
   ]
  },
  {
   "cell_type": "markdown",
   "metadata": {},
   "source": [
    "## Part 1\n",
    "We first use Forward Euler (FE) to find the first order approximate solution of the ODE, $y^{[1]}(\\Delta t)$. The FE method for our one step over $t\\in[0,\\Delta t]$ has the from, \n",
    "\\begin{equation}\n",
    "y(\\Delta t)\\approx y(0)+\\Delta t f(t,y(0))=y(0)+\\Delta t (y(0))^2.\n",
    "\\end{equation}\n",
    "For the Picard Integral equation, applying FE is equivalent to applying the Left-Hand Reimann sum to the integral. Applying the method to our problem,\n",
    "\\begin{equation}\n",
    "y^{[1]}(\\Delta t)=y(0)+\\Delta t (y(0))^2=1+\\Delta t(1)^2=1+\\Delta t\\;.\n",
    "\\end{equation} \n",
    "\n",
    "Now we must build a linear interpolant $y^{[1]}(t)$ over $t\\in[0,\\Delta t]$, using the initial value and solution at $\\Delta t$ as interpolation points. The interpolant will have the form,\n",
    "\\begin{equation}\n",
    "y^{[1]}(t)=y^{[1]}(0)L_0(t)+y^{[1]}(\\Delta t) L_{\\Delta t}(t)\\;,\n",
    "\\end{equation}\n",
    "where $L_{t_i}(t)$ are the Lagrange interpolating polynomials centered at $t={t_i}$.\n",
    "\\begin{equation}\n",
    "L_0(t)=\\frac{\\Delta t-t}{\\Delta t}\\;,\\;\\;\\; L_{\\Delta t}(t)=\\frac{t}{\\Delta t}\\;.\n",
    "\\end{equation}\n",
    "Note that $y^{[1]}(0)=y(0)=1$.\n",
    "Our interpolating polynomial becomes,\n",
    "\\begin{equation}\n",
    "y^{[1]}(t)=\\frac{\\Delta t-t}{\\Delta t}+(1+\\Delta t)\\frac{t}{\\Delta t}=(1+t)\\;.\n",
    "\\end{equation} \n",
    "\n",
    "Now we would like to investigate the local truncation error of our solution. To this in a nice clean way, we can Taylor expand the true solution $y(t)$ in powers of $t$ and evaluate the series at $t=\\Delta t$. Then the order of the local truncation errors in terms of $\\Delta t$ can easily be seen. The true solution in power series from is,\n",
    "\\begin{equation}\n",
    "y(t)=(1-t)^{-1}=\\sum_{n=0} t^n=1+t+t^2+t^3+\\cdots+t^k+\\cdots\n",
    "\\end{equation}\n",
    "Computing the local truncation error of the first order approximate solution $y^{[1]}(t)$ at $t=\\Delta t$ gives, \n",
    "\\begin{equation}\n",
    "|y^{[1]}(\\Delta t)-y(\\Delta t)=|1 + \\Delta t - (1 +\\Delta t +\\mathcal{O}(\\Delta t^2))|=\\mathcal{O}(\\Delta t^2)\n",
    "\\end{equation}\n",
    "The method indeed gives a second order local truncation error as we expect since FE is globally first order and locally second order convergent. "
   ]
  },
  {
   "cell_type": "markdown",
   "metadata": {},
   "source": [
    "## Part 2\n",
    "\n",
    "Next we compute the residual exactly (or as high order as possible if the exact solution is not possible), this is __critical__ to the SDC method.\n",
    "\\begin{equation}\n",
    "r(t)=y^{[1]}(0)-y^{[1]}(t)+\\int_0^t(y^{[1]}(\\tau))^2\\;d\\tau\\;.\n",
    "\\end{equation}\n",
    "This can be evaluated using the interpolant for $y^{[1]}(0)$ we found earlier. This gives,\n",
    "\\begin{align}\n",
    "r(t)=1-(1+t)+\\int_0^t(1+t)^2\\;d\\tau=1-(1+t)+\\frac{1}{3}(1+t)^3|^{t}_{0}\\nonumber\\\\\n",
    "=1-(1+t)+\\frac{1}{3}(t^3+3t^2+3t+1)-\\frac{1}{3}=\\frac{1}{3}t^3+t^2\\;.\n",
    "\\end{align}"
   ]
  },
  {
   "cell_type": "markdown",
   "metadata": {},
   "source": [
    "## Part 3\n",
    "Consider the error of the approximate solution from the exact solution, $e(t):=y(t)-y^{[1]}(t)$. Rearranging the error as $y(t)=e(t)+y^{[1]}(t)$ and inserting it into the Picard integral given yields,\n",
    "\\begin{equation}\n",
    "e(t)+y^{[1]}(t)=e(0)+y^{[1]}(0)+\\int_0^t(y^{[1]}(\\tau)+e(\\tau))^2\\;d\\tau\\;,\\;\\;\\;t\\in[0,\\Delta t]\\;.\n",
    "\\end{equation}\n",
    "We can assumes $e(0)=0$ since we know the solution at $t=0$ is the initial value given in the problem. Furthermore, after simplification of the equation above, we can rearrange it so that it contains the residual. \n",
    "\\begin{equation}\n",
    "e(t)=y^{[1]}(0)-y^{[1]}(t)+\\int_0^t(y^{[1]}(\\tau)+e(\\tau))^2\\;d\\tau\\;,\\;\\;\\;t\\in[0,\\Delta t]\\;.\n",
    "\\end{equation}\n",
    "Now we add and subtract $\\int_0^t(y^{[1]}(\\tau))^2\\;d\\tau$ in order to form the residual in the equation,\n",
    "\\begin{equation}\n",
    "e(t)=y^{[1]}(0)-y^{[1]}(t)+\\int_0^t(y^{[1]}(\\tau))^2\\;d\\tau+\\int_0^t(y^{[1]}(\\tau)+e(\\tau))^2\\;d\\tau-\\int_0^t(y^{[1]}(\\tau))^2\\;d\\tau\\;,\\;\\;\\;t\\in[0,\\Delta t]\\;,\n",
    "\\end{equation}\n",
    "yielding\n",
    "\\begin{equation}\n",
    "e(t)=r(t)+\\int_0^t(y^{[1]}(\\tau)+e(\\tau))^2-(y^{[1]}(\\tau))^2\\;d\\tau\\;,\\;\\;\\;t\\in[0,\\Delta t]\\;.\n",
    "\\end{equation}\n",
    "This is the ODE form of the error in the SDC method. The error can be solved for using an approximate method and the solution can refined iteratively, each time finding the new approximate error for the new new refined solution. "
   ]
  },
  {
   "cell_type": "markdown",
   "metadata": {},
   "source": [
    "## Part 4\n",
    "Now we use FE method on the error ODE, and step from $t=0$ to $t=\\Delta t$. We call this first order approximate solution for the error $e^{[1]}(t)$. Once again applying FE to the Picard integral corresponds to applying the Left-Hand Riemann sum to the integral. \n",
    "\\begin{equation}\n",
    "e^{[1]}(\\Delta t) = r(\\Delta t)+\\Delta t [(y^{[1]}(0)+e(0))^2-(y^{[1]}(0))^2]\\;.\n",
    "\\end{equation}\n",
    "\\begin{equation}\n",
    "e^{[1]}(\\Delta t)=(\\frac{1}{3}\\Delta t^3+\\Delta t^2)+\\Delta t[ (1+0)^2-(1)^2]=(\\frac{1}{3}\\Delta t^3+\\Delta t^2)\\;.\n",
    "\\end{equation}\n",
    "We could build an interpolating polynomial as we did last time, but we do not need to since we only want to evaluate the local truncation error at $t=\\Delta t$. We needed the interpolant for $y^{[1]}(t)$  to integrate the residual exactly. Now that we have the error we update our previous first order approximate solution and from an approximate (hopefully second order) solution.\n",
    "\\begin{equation}\n",
    "y^{[2]}(\\Delta t)=y^{[1]}(\\Delta t)+e^{[1]}(\\Delta t)=1+\\Delta t + \\Delta t^2 +\\frac{1}{3} \\Delta t^3\n",
    "\\end{equation}\n",
    "To find the error we evaluate $|y^{[2]}(\\Delta t)-y(\\Delta t)|=\\mathcal{O}(\\Delta t ^3)$. This gives\n",
    "\\begin{equation}\n",
    "|y^{[2]}(\\Delta t)-y(\\Delta t)=|1 + \\Delta t +\\Delta t^2 +\\frac{1}{3}\\Delta t^3 - (1 +\\Delta t +\\mathcal{O}(\\Delta t^2)|=\\mathcal{O}(\\Delta t^3)\n",
    "\\end{equation}\n",
    "Now the refined solution has a $\\mathcal{O}(\\Delta t^3)$ local truncation error."
   ]
  }
 ],
 "metadata": {
  "kernelspec": {
   "display_name": "Python 2",
   "language": "python",
   "name": "python2"
  },
  "language_info": {
   "codemirror_mode": {
    "name": "ipython",
    "version": 2
   },
   "file_extension": ".py",
   "mimetype": "text/x-python",
   "name": "python",
   "nbconvert_exporter": "python",
   "pygments_lexer": "ipython2",
   "version": "2.7.11"
  }
 },
 "nbformat": 4,
 "nbformat_minor": 0
}
