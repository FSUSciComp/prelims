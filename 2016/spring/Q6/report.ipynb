{
 "cells": [
  {
   "cell_type": "markdown",
   "metadata": {},
   "source": [
    "### Question 6\n",
    "\n",
    "solution from Chaolun\n",
    "\n",
    "#### a)\n",
    "denote $S=\\frac{K}{pc}$, we can disrcetize the given heat equation using finite difference method, forward euler was used in time descretization. Choose spatial step size to be 10(m), temporal stepsize to be $3.154*10^7$(s),which is one year. We have:\n",
    "$$\n",
    "\\frac{T_i^{k+1}-T_i^{k}}{\\Delta t}=S\\frac{T_{i-1}^k-2T_i^k+T_{i+1}^k}{\\Delta z^2}\n",
    "$$\n",
    "where i=0,1,2...100, k=0,1,2..., $\\Delta z=10(m)$, $\\Delta t=1(year)$\n",
    "\n",
    "The boundary condition is given as:\n",
    "$$\n",
    "T_0^k=T_{surface}\n",
    "$$\n",
    "$$\n",
    "q=\\frac{T^k_{101}-T^k_{99}}{\\Delta Z}\n",
    "$$\n",
    "So for each time steps, we can update the solution by:\n",
    "$$\n",
    "T_{0}^{k+1}=T_{surface} (k=1,2,...)\n",
    "$$\n",
    "$$\n",
    "T_i^{k+1}=\\frac{\\Delta t S}{\\Delta z^2}(T_{i-1}^k-2T_i^k+T_{i+1}^k)+T_i^k \\space\\space\\space(i=1,....99;\\space k=1,2,...)\n",
    "$$\n",
    "\n",
    "$$\n",
    "T_{100}^{k+1}=\\frac{\\Delta t S}{\\Delta z^2}(2T_{99}^k-2T_{100}^k+\\Delta z q)+T_{100}^k \\space\\space\\space(k=1,2,...)\n",
    "$$\n",
    "where $S=10^{-6} (m^2 s^{-1})$, $q=0.015(^0Cm^{-1})$, with the given initial condition $T_i^0\\space\\space(i=1,2...100)$\n",
    "\n",
    "The grid spacing was determined to balance the accuracy(the error is second order in space $O(\\Delta z^2)$) and comptational cost. Also according to von Neumann stability analysis(referred from class powerpoint, lecture 22 page 6, or wikipedia), we can have the stability condition given by:\n",
    "$$\n",
    "\\Delta t<\\frac{(\\Delta z)^2}{2S}\\space\\space\n",
    "$$\n",
    "so as long as $\\Delta t<5*10^{7}(s)$ the method will be stable.\n",
    "The code was shown in b) and c)"
   ]
  },
  {
   "cell_type": "markdown",
   "metadata": {},
   "source": [
    "#### b)\n",
    "the result become stabe when running 100000 time steps. We can see that the heat diffusion undergound is quite slow."
   ]
  },
  {
   "cell_type": "code",
   "execution_count": 29,
   "metadata": {
    "collapsed": false
   },
   "outputs": [
    {
     "name": "stdout",
     "output_type": "stream",
     "text": [
      "[-15.         -14.92499764 -14.84999528 -14.77499293 -14.69999057\n",
      " -14.62498822 -14.54998587 -14.47498353 -14.39998118 -14.32497885\n",
      " -14.24997652 -14.17497419 -14.09997188 -14.02496956 -13.94996726\n",
      " -13.87496497 -13.79996268 -13.72496041 -13.64995814 -13.57495588\n",
      " -13.49995364 -13.42495141 -13.34994919 -13.27494698 -13.19994479\n",
      " -13.1249426  -13.04994044 -12.97493829 -12.89993615 -12.82493403\n",
      " -12.74993193 -12.67492984 -12.59992777 -12.52492572 -12.44992369\n",
      " -12.37492168 -12.29991969 -12.22491771 -12.14991576 -12.07491383\n",
      " -11.99991192 -11.92491003 -11.84990816 -11.77490632 -11.6999045\n",
      " -11.62490271 -11.54990093 -11.47489919 -11.39989746 -11.32489577\n",
      " -11.2498941  -11.17489245 -11.09989084 -11.02488925 -10.94988768\n",
      " -10.87488615 -10.79988464 -10.72488316 -10.64988171 -10.57488029\n",
      " -10.4998789  -10.42487754 -10.34987621 -10.27487491 -10.19987365\n",
      " -10.12487241 -10.04987121  -9.97487003  -9.89986889  -9.82486778\n",
      "  -9.74986671  -9.67486566  -9.59986465  -9.52486368  -9.44986274\n",
      "  -9.37486183  -9.29986095  -9.22486011  -9.14985931  -9.07485854\n",
      "  -8.9998578   -8.9248571   -8.84985644  -8.77485581  -8.69985522\n",
      "  -8.62485466  -8.54985414  -8.47485365  -8.3998532   -8.32485279\n",
      "  -8.24985241  -8.17485207  -8.09985177  -8.0248515   -7.94985127\n",
      "  -7.87485107  -7.79985092  -7.7248508   -7.64985071  -7.57485067\n",
      "  -7.49985066]\n"
     ]
    },
    {
     "data": {
      "image/png": "[encoded data removed]",
      "text/plain": [
       "<matplotlib.figure.Figure at 0x2b92a656550>"
      ]
     },
     "metadata": {},
     "output_type": "display_data"
    }
   ],
   "source": [
    "import numpy as np\n",
    "from matplotlib.pyplot import *\n",
    "\n",
    "m=101\n",
    "n=100000\n",
    "Tsurface=-15\n",
    "s=0.000001\n",
    "q=0.015\n",
    "dz=10\n",
    "dt=3.154*10000000  #seconds in one year\n",
    "t=np.zeros([m])\n",
    "t[0]=Tsurface\n",
    "z=np.linspace(0,1000,101)\n",
    "\n",
    "for i in range(n):\n",
    "    tnew=t\n",
    "    for j in range(m):\n",
    "        if j==0:\n",
    "            tnew[j]=Tsurface\n",
    "        elif j==m-1:\n",
    "            tnew[j]=dt*s/(dz*dz)*(2*t[j-1]-2*t[j]+dz*q)+t[j]\n",
    "        else:\n",
    "            tnew[j]=dt*s/(dz*dz)*(t[j-1]-2*t[j]+t[j+1])+t[j]\n",
    "    t=tnew\n",
    "\n",
    "print(t)\n",
    "plot(z,t)\n",
    "show()"
   ]
  },
  {
   "cell_type": "markdown",
   "metadata": {},
   "source": [
    "#### c)\n",
    "According with the question, we have:\n",
    "$$\n",
    "T_{surface}=k*\\Delta t*\\Delta T_{surface} +T_{inital}\n",
    "$$\n",
    "where $k=1,2,3..$, which indicates the number of years, $\\Delta t$ is the step size, which is 1 (year), $T_{initial}=-15$, $\\Delta T_{surface}=0.035$, the other condition stays the same as in a). The computation was done for 10 centuries"
   ]
  },
  {
   "cell_type": "code",
   "execution_count": 30,
   "metadata": {
    "collapsed": false
   },
   "outputs": [
    {
     "name": "stdout",
     "output_type": "stream",
     "text": [
      "[[-15.         -14.92499764 -14.84999528 ...,  -7.64985071  -7.57485067\n",
      "   -7.49985066]\n",
      " [-11.535      -11.98586575 -12.36997012 ...,  -7.6498524   -7.57485235\n",
      "   -7.49985234]\n",
      " [ -8.035       -8.72702065  -9.3495881  ...,  -7.64985407  -7.57485402\n",
      "   -7.49985401]\n",
      " ..., \n",
      " [ 12.965       11.44994411  10.0075979  ...,  -7.64735367  -7.57242117\n",
      "   -7.49743548]\n",
      " [ 16.465       14.85010443  13.30810495 ...,  -7.64362237  -7.56876137\n",
      "   -7.49379084]\n",
      " [ 19.965       18.25567471  16.61940321 ...,  -7.63654528  -7.56179563\n",
      "   -7.48684873]]\n"
     ]
    },
    {
     "data": {
      "image/png": "[encoded data removed]",
      "text/plain": [
       "<matplotlib.figure.Figure at 0x2b92a6b4898>"
      ]
     },
     "metadata": {},
     "output_type": "display_data"
    }
   ],
   "source": [
    "result=np.zeros([11,101])\n",
    "for i in range(1001):\n",
    "    tnew=t\n",
    "    if i%100==0:\n",
    "        result[int(np.floor(i/100))]=tnew    \n",
    "    for j in range(m):\n",
    "        if j==0:\n",
    "            tnew[j]=i*0.035-15.0\n",
    "        elif j==m-1:\n",
    "            tnew[j]=dt*s/(dz*dz)*(2*t[j-1]-2*t[j]+dz*q)+t[j]\n",
    "        else:\n",
    "            tnew[j]=dt*s/(dz*dz)*(t[j-1]-2*t[j]+t[j+1])+t[j]\n",
    "    t=tnew\n",
    "print(result)\n",
    "heatmap=imshow(result, cmap='hot', interpolation='nearest')\n",
    "colorbar(heatmap)\n",
    "show()"
   ]
  }
 ],
 "metadata": {
  "anaconda-cloud": {},
  "kernelspec": {
   "display_name": "Python [default]",
   "language": "python",
   "name": "python3"
  },
  "language_info": {
   "codemirror_mode": {
    "name": "ipython",
    "version": 3
   },
   "file_extension": ".py",
   "mimetype": "text/x-python",
   "name": "python",
   "nbconvert_exporter": "python",
   "pygments_lexer": "ipython3",
   "version": "3.5.2"
  }
 },
 "nbformat": 4,
 "nbformat_minor": 1
}
