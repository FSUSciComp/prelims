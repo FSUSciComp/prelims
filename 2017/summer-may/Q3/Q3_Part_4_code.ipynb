{
 "cells": [
  {
   "cell_type": "code",
   "execution_count": 1,
   "metadata": {},
   "outputs": [
    {
     "name": "stdout",
     "output_type": "stream",
     "text": [
      "\n",
      "ans =\n",
      "\n",
      "Part 4 results\n",
      "\n",
      "\n",
      "d1 =\n",
      "\n",
      "    0.9509\n",
      "\n",
      "\n",
      "d2 =\n",
      "\n",
      "   -0.1092\n",
      "\n",
      "\n"
     ]
    }
   ],
   "source": [
    "%Student ID:5894371007989034\n",
    "\n",
    "%Part 4 code\n",
    "\n",
    "N = 20;\n",
    "t = zeros(N,1);\n",
    "f = zeros(N,1);\n",
    "a1 = 1.0;\n",
    "a2 = 1.0;\n",
    "b1 = -2.0;\n",
    "b2 = -0.2;\n",
    "t(1,1) = 0;\n",
    "f(1,1) = a1*exp(b1*t(1,1)) + a2*exp(b2*t(1,1));\n",
    "dt = 1;\n",
    "\n",
    "for i = 2 : N\n",
    "    \n",
    "    t(i,1) = (i-1)*dt;\n",
    "    f(i,1) = a1.*exp(b1*t(i,1)) + a2.*exp(b2*t(i,1));\n",
    "  \n",
    "end\n",
    "\n",
    "\n",
    "A = zeros(20,2);\n",
    "y = f;\n",
    "Y = zeros(2,1);\n",
    "\n",
    "b1 = -2;\n",
    "b2 = -0.2;\n",
    "\n",
    "for i = 1 : 20\n",
    "   \n",
    "    A(i,1) = exp(b1*t(i,1));\n",
    "    A(i,2) = exp(b2*t(i,1));\n",
    "    \n",
    "end\n",
    "\n",
    "% AY = y\n",
    "% Least Squares (AT) * (A) * (Y) = (AT) * (y)\n",
    "AT = transpose(A);\n",
    "\n",
    "Y = ((AT)*(A))\\((AT)*(y));\n",
    "\n",
    "a1 = Y(1,1);\n",
    "a2 = Y(2,1);\n",
    "\n",
    "\n",
    "\n",
    "%Part 4\n",
    "A = zeros(18,2);\n",
    "for i = 1 : 18\n",
    "    \n",
    "   A(i,1) = f(i+1,1);\n",
    "   A(i,2) = f(i,1);\n",
    "   \n",
    "end\n",
    "\n",
    "y = zeros(18,1);\n",
    "\n",
    " j = 1;\n",
    "for i = 3 : 18\n",
    "    \n",
    "    y(j,1) = f(i,1);\n",
    "    j = j + 1;\n",
    "    \n",
    "end\n",
    "\n",
    "Y = zeros(2,1);\n",
    "\n",
    "%Least Squares (AT)*(A)*(Y) = (AT)*(y)\n",
    "AT = transpose(A);\n",
    "Y = ((AT)*(A))\\((AT)*(y));\n",
    "d1 = Y(1,1);\n",
    "d2 = Y(2,1);\n",
    "\n",
    "\n",
    "'Part 4 results'\n",
    "d1\n",
    "d2\n",
    "\n",
    "\n",
    "b1 = log(-0.2341);\n",
    "b2 = log(0.1802);"
   ]
  },
  {
   "cell_type": "code",
   "execution_count": null,
   "metadata": {
    "collapsed": true
   },
   "outputs": [],
   "source": []
  }
 ],
 "metadata": {
  "kernelspec": {
   "display_name": "Matlab",
   "language": "matlab",
   "name": "matlab"
  },
  "language_info": {
   "codemirror_mode": "octave",
   "file_extension": ".m",
   "help_links": [
    {
     "text": "MetaKernel Magics",
     "url": "https://github.com/calysto/metakernel/blob/master/metakernel/magics/README.md"
    }
   ],
   "mimetype": "text/x-matlab",
   "name": "matlab",
   "version": "0.14.3"
  }
 },
 "nbformat": 4,
 "nbformat_minor": 2
}
