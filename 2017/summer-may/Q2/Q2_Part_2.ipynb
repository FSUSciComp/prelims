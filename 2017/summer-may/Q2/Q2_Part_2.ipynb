{
 "cells": [
  {
   "cell_type": "code",
   "execution_count": null,
   "metadata": {
    "collapsed": true
   },
   "outputs": [],
   "source": [
    "F_function = @(x) exp(cos(x)); \n",
    "\n",
    "I = integral(F_function, 0, 2*pi);\n",
    "\n",
    "N   = 9;\n",
    "I_N = 0;\n",
    "\n",
    "for j = 1 : N\n",
    "    \n",
    "   x = (2 * pi * j) / N;\n",
    "   I_N = I_N + ((2*pi)/N) * (exp(cos(x)));\n",
    "    \n",
    "end\n",
    "\n",
    "Error = I_N - I;\n",
    "\n",
    "N\n",
    "I\n",
    "I_N\n",
    "Error "
   ]
  }
 ],
 "metadata": {
  "kernelspec": {
   "display_name": "Matlab",
   "language": "matlab",
   "name": "matlab"
  },
  "language_info": {
   "codemirror_mode": "octave",
   "file_extension": ".m",
   "help_links": [
    {
     "text": "MetaKernel Magics",
     "url": "https://github.com/calysto/metakernel/blob/master/metakernel/magics/README.md"
    }
   ],
   "mimetype": "text/x-matlab",
   "name": "matlab",
   "version": "0.14.3"
  }
 },
 "nbformat": 4,
 "nbformat_minor": 2
}
