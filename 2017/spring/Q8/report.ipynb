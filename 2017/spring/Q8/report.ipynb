{
 "cells": [
  {
   "cell_type": "markdown",
   "metadata": {},
   "source": [
    "### Q8\n",
    "Solution from Chad\n"
   ]
  },
  {
   "cell_type": "code",
   "execution_count": 1,
   "metadata": {
    "collapsed": true
   },
   "outputs": [],
   "source": [
    "import numpy as np"
   ]
  },
  {
   "cell_type": "code",
   "execution_count": 6,
   "metadata": {
    "collapsed": false
   },
   "outputs": [],
   "source": [
    "# cost function\n",
    "def Func(x, lam, c):\n",
    "    return (1./2*(x[0,0]**2+1./3*x[0,1]**2)+lam*(x[0,0]+x[0,1]-1)+1./2*c*(x[0,0]+x[0,1]-1)**2)\n",
    "\n",
    "# derivative of cost function\n",
    "def Fprime(x, lam, c):\n",
    "    return np.array([x[0,0] + lam + c*(x[0,0]+x[0,1] - 1),1./3*x[0,1]+lam+c*(x[0,0]+x[0,1]-1)])\n",
    "\n",
    "# Hessian of the function\n",
    "def Fhessian(x, lam, c):\n",
    "    return np.array([ [1+c, c] , [c, 1./3+c] ])\n",
    "\n",
    "# Newtons method for unconstrained optimizations\n",
    "def NewtonMethod(Func , Fprime, Fhessian, x0, lam0, c0, c_update, lam_update):\n",
    "    lam = lam0\n",
    "    c = c0\n",
    "    tol = 0.0001\n",
    "    max_iter = 15\n",
    "    Error = 1.\n",
    "    itr = 1\n",
    "    while (itr < max_iter):\n",
    "        Hess = Fhessian(x0, lam, c)\n",
    "        Prime = -Fprime(x0, lam, c)\n",
    "        Sk = np.linalg.solve(Hess , np.transpose(Prime))\n",
    "        Xnew = x0 + Sk\n",
    "        Fold = Func(x0, lam, c)\n",
    "        Fnew = Func(Xnew, lam, c)\n",
    "        print('Iter: {}, x1: {:.4}, x2: {:.4}'.format(itr, Xnew[0,0], Xnew[0,1]))\n",
    "        # update lamda\n",
    "        if lam_update == 'part_1':\n",
    "            lam = 0\n",
    "        if lam_update == 'part_2':\n",
    "            lam = lam + c*(Xnew[0,0] + Xnew[0,1] - 1)\n",
    "            \n",
    "        # update x\n",
    "        x0 = Xnew\n",
    "        itr = itr + 1\n",
    "        \n",
    "        # update c\n",
    "        if c_update == 'part_1':\n",
    "            c = 10*c\n",
    "        if c_update == 'part_2':\n",
    "            c = 0.1*2 ** itr\n",
    "        if c_update == 'part_3':\n",
    "            c = 0.1*4 ** itr\n",
    "        if c_update == 'part_4':\n",
    "            c = 0.1*8 ** itr\n",
    "            \n",
    "            "
   ]
  },
  {
   "cell_type": "code",
   "execution_count": 7,
   "metadata": {
    "collapsed": true
   },
   "outputs": [],
   "source": [
    "x0 = np.array([0.11, 0.33])\n",
    "x0 = x0.reshape((1,2))\n",
    "lam0 = 0\n"
   ]
  },
  {
   "cell_type": "markdown",
   "metadata": {},
   "source": [
    "### 1 Penalty Method Coefficent 1"
   ]
  },
  {
   "cell_type": "code",
   "execution_count": 8,
   "metadata": {
    "collapsed": false
   },
   "outputs": [
    {
     "name": "stdout",
     "output_type": "stream",
     "text": [
      "Iter: 1, x1: 0.1111, x2: 0.3333\n",
      "Iter: 2, x1: 0.2222, x2: 0.6667\n",
      "Iter: 3, x1: 0.2469, x2: 0.7407\n",
      "Iter: 4, x1: 0.2497, x2: 0.7491\n",
      "Iter: 5, x1: 0.25, x2: 0.7499\n",
      "Iter: 6, x1: 0.25, x2: 0.75\n",
      "Iter: 7, x1: 0.25, x2: 0.75\n",
      "Iter: 8, x1: 0.25, x2: 0.75\n",
      "Iter: 9, x1: 0.25, x2: 0.75\n",
      "Iter: 10, x1: 0.25, x2: 0.75\n",
      "Iter: 11, x1: 0.25, x2: 0.75\n",
      "Iter: 12, x1: 0.25, x2: 0.75\n",
      "Iter: 13, x1: 0.25, x2: 0.75\n",
      "Iter: 14, x1: 0.25, x2: 0.75\n"
     ]
    }
   ],
   "source": [
    "c0 = 0.2\n",
    "c_update = 'part_1'\n",
    "lam_update = 'part_1'\n",
    "NewtonMethod(Func , Fprime, Fhessian,x0, lam0, c0, c_update, lam_update)"
   ]
  },
  {
   "cell_type": "markdown",
   "metadata": {},
   "source": [
    "### 2 Penalty Method Coefficent 2"
   ]
  },
  {
   "cell_type": "code",
   "execution_count": 9,
   "metadata": {
    "collapsed": false
   },
   "outputs": [
    {
     "name": "stdout",
     "output_type": "stream",
     "text": [
      "Iter: 1, x1: 0.1111, x2: 0.3333\n",
      "Iter: 2, x1: 0.1538, x2: 0.4615\n",
      "Iter: 3, x1: 0.1905, x2: 0.5714\n",
      "Iter: 4, x1: 0.2162, x2: 0.6486\n",
      "Iter: 5, x1: 0.2319, x2: 0.6957\n",
      "Iter: 6, x1: 0.2406, x2: 0.7218\n",
      "Iter: 7, x1: 0.2452, x2: 0.7356\n",
      "Iter: 8, x1: 0.2476, x2: 0.7427\n",
      "Iter: 9, x1: 0.2488, x2: 0.7464\n",
      "Iter: 10, x1: 0.2494, x2: 0.7482\n",
      "Iter: 11, x1: 0.2497, x2: 0.7491\n",
      "Iter: 12, x1: 0.2498, x2: 0.7495\n",
      "Iter: 13, x1: 0.2499, x2: 0.7498\n",
      "Iter: 14, x1: 0.25, x2: 0.7499\n"
     ]
    }
   ],
   "source": [
    "c0 = 0.2\n",
    "c_update = 'part_2'\n",
    "lam_update = 'part_1'\n",
    "NewtonMethod(Func , Fprime, Fhessian,x0, lam0, c0, c_update, lam_update)"
   ]
  },
  {
   "cell_type": "markdown",
   "metadata": {},
   "source": [
    "### 3 Penalty Method Coefficent 3"
   ]
  },
  {
   "cell_type": "code",
   "execution_count": 11,
   "metadata": {
    "collapsed": false
   },
   "outputs": [
    {
     "name": "stdout",
     "output_type": "stream",
     "text": [
      "Iter: 1, x1: 0.1538, x2: 0.4615\n",
      "Iter: 2, x1: 0.2162, x2: 0.6486\n",
      "Iter: 3, x1: 0.2406, x2: 0.7218\n",
      "Iter: 4, x1: 0.2476, x2: 0.7427\n",
      "Iter: 5, x1: 0.2494, x2: 0.7482\n",
      "Iter: 6, x1: 0.2498, x2: 0.7495\n",
      "Iter: 7, x1: 0.25, x2: 0.7499\n",
      "Iter: 8, x1: 0.25, x2: 0.75\n",
      "Iter: 9, x1: 0.25, x2: 0.75\n",
      "Iter: 10, x1: 0.25, x2: 0.75\n",
      "Iter: 11, x1: 0.25, x2: 0.75\n",
      "Iter: 12, x1: 0.25, x2: 0.75\n",
      "Iter: 13, x1: 0.25, x2: 0.75\n",
      "Iter: 14, x1: 0.25, x2: 0.75\n"
     ]
    }
   ],
   "source": [
    "c0 = 0.4\n",
    "c_update = 'part_3'\n",
    "lam_update = 'part_1'\n",
    "NewtonMethod(Func , Fprime, Fhessian,x0, lam0, c0, c_update, lam_update)"
   ]
  },
  {
   "cell_type": "markdown",
   "metadata": {},
   "source": [
    "### 4 Penalty Method Coefficent 4"
   ]
  },
  {
   "cell_type": "code",
   "execution_count": 13,
   "metadata": {
    "collapsed": false
   },
   "outputs": [
    {
     "name": "stdout",
     "output_type": "stream",
     "text": [
      "Iter: 1, x1: 0.1905, x2: 0.5714\n",
      "Iter: 2, x1: 0.2406, x2: 0.7218\n",
      "Iter: 3, x1: 0.2488, x2: 0.7464\n",
      "Iter: 4, x1: 0.2498, x2: 0.7495\n",
      "Iter: 5, x1: 0.25, x2: 0.7499\n",
      "Iter: 6, x1: 0.25, x2: 0.75\n",
      "Iter: 7, x1: 0.25, x2: 0.75\n",
      "Iter: 8, x1: 0.25, x2: 0.75\n",
      "Iter: 9, x1: 0.25, x2: 0.75\n",
      "Iter: 10, x1: 0.25, x2: 0.75\n",
      "Iter: 11, x1: 0.25, x2: 0.75\n",
      "Iter: 12, x1: 0.25, x2: 0.75\n",
      "Iter: 13, x1: 0.25, x2: 0.75\n",
      "Iter: 14, x1: 0.25, x2: 0.75\n"
     ]
    }
   ],
   "source": [
    "c0 = 0.8\n",
    "c_update = 'part_4'\n",
    "lam_update = 'part_1'\n",
    "NewtonMethod(Func , Fprime, Fhessian,x0, lam0, c0, c_update, lam_update)"
   ]
  },
  {
   "cell_type": "markdown",
   "metadata": {},
   "source": [
    "### 5 A-L Method Coefficent 1"
   ]
  },
  {
   "cell_type": "code",
   "execution_count": 14,
   "metadata": {
    "collapsed": false
   },
   "outputs": [
    {
     "name": "stdout",
     "output_type": "stream",
     "text": [
      "Iter: 1, x1: 0.1111, x2: 0.3333\n",
      "Iter: 2, x1: 0.2346, x2: 0.7037\n",
      "Iter: 3, x1: 0.2498, x2: 0.7494\n",
      "Iter: 4, x1: 0.25, x2: 0.75\n",
      "Iter: 5, x1: 0.25, x2: 0.75\n",
      "Iter: 6, x1: 0.25, x2: 0.75\n",
      "Iter: 7, x1: 0.25, x2: 0.75\n",
      "Iter: 8, x1: 0.25, x2: 0.75\n",
      "Iter: 9, x1: 0.25, x2: 0.75\n",
      "Iter: 10, x1: 0.25, x2: 0.75\n",
      "Iter: 11, x1: 0.25, x2: 0.75\n",
      "Iter: 12, x1: 0.25, x2: 0.75\n",
      "Iter: 13, x1: 0.25, x2: 0.75\n",
      "Iter: 14, x1: 0.25, x2: 0.75\n"
     ]
    }
   ],
   "source": [
    "c0 = 0.2\n",
    "c_update = 'part_1'\n",
    "lam_update = 'part_2'\n",
    "NewtonMethod(Func , Fprime, Fhessian,x0, lam0, c0, c_update, lam_update)"
   ]
  },
  {
   "cell_type": "markdown",
   "metadata": {},
   "source": [
    "### 6 A-L Method Coefficent 2"
   ]
  },
  {
   "cell_type": "code",
   "execution_count": 15,
   "metadata": {
    "collapsed": false
   },
   "outputs": [
    {
     "name": "stdout",
     "output_type": "stream",
     "text": [
      "Iter: 1, x1: 0.1111, x2: 0.3333\n",
      "Iter: 2, x1: 0.1966, x2: 0.5897\n",
      "Iter: 3, x1: 0.2373, x2: 0.7118\n",
      "Iter: 4, x1: 0.2483, x2: 0.7448\n",
      "Iter: 5, x1: 0.2499, x2: 0.7496\n",
      "Iter: 6, x1: 0.25, x2: 0.75\n",
      "Iter: 7, x1: 0.25, x2: 0.75\n",
      "Iter: 8, x1: 0.25, x2: 0.75\n",
      "Iter: 9, x1: 0.25, x2: 0.75\n",
      "Iter: 10, x1: 0.25, x2: 0.75\n",
      "Iter: 11, x1: 0.25, x2: 0.75\n",
      "Iter: 12, x1: 0.25, x2: 0.75\n",
      "Iter: 13, x1: 0.25, x2: 0.75\n",
      "Iter: 14, x1: 0.25, x2: 0.75\n"
     ]
    }
   ],
   "source": [
    "c0 = 0.2\n",
    "c_update = 'part_2'\n",
    "lam_update = 'part_2'\n",
    "NewtonMethod(Func , Fprime, Fhessian,x0, lam0, c0, c_update, lam_update)"
   ]
  },
  {
   "cell_type": "markdown",
   "metadata": {},
   "source": [
    "### 7 A-L Method Coefficent 3"
   ]
  },
  {
   "cell_type": "code",
   "execution_count": 16,
   "metadata": {
    "collapsed": false
   },
   "outputs": [
    {
     "name": "stdout",
     "output_type": "stream",
     "text": [
      "Iter: 1, x1: 0.1538, x2: 0.4615\n",
      "Iter: 2, x1: 0.237, x2: 0.711\n",
      "Iter: 3, x1: 0.2495, x2: 0.7485\n",
      "Iter: 4, x1: 0.25, x2: 0.75\n",
      "Iter: 5, x1: 0.25, x2: 0.75\n",
      "Iter: 6, x1: 0.25, x2: 0.75\n",
      "Iter: 7, x1: 0.25, x2: 0.75\n",
      "Iter: 8, x1: 0.25, x2: 0.75\n",
      "Iter: 9, x1: 0.25, x2: 0.75\n",
      "Iter: 10, x1: 0.25, x2: 0.75\n",
      "Iter: 11, x1: 0.25, x2: 0.75\n",
      "Iter: 12, x1: 0.25, x2: 0.75\n",
      "Iter: 13, x1: 0.25, x2: 0.75\n",
      "Iter: 14, x1: 0.25, x2: 0.75\n"
     ]
    }
   ],
   "source": [
    "c0 = 0.4\n",
    "c_update = 'part_3'\n",
    "lam_update = 'part_2'\n",
    "NewtonMethod(Func , Fprime, Fhessian,x0, lam0, c0, c_update, lam_update)"
   ]
  },
  {
   "cell_type": "markdown",
   "metadata": {},
   "source": [
    "### 8 A-L Method Coefficent 4"
   ]
  },
  {
   "cell_type": "code",
   "execution_count": 17,
   "metadata": {
    "collapsed": false
   },
   "outputs": [
    {
     "name": "stdout",
     "output_type": "stream",
     "text": [
      "Iter: 1, x1: 0.1905, x2: 0.5714\n",
      "Iter: 2, x1: 0.2478, x2: 0.7433\n",
      "Iter: 3, x1: 0.25, x2: 0.75\n",
      "Iter: 4, x1: 0.25, x2: 0.75\n",
      "Iter: 5, x1: 0.25, x2: 0.75\n",
      "Iter: 6, x1: 0.25, x2: 0.75\n",
      "Iter: 7, x1: 0.25, x2: 0.75\n",
      "Iter: 8, x1: 0.25, x2: 0.75\n",
      "Iter: 9, x1: 0.25, x2: 0.75\n",
      "Iter: 10, x1: 0.25, x2: 0.75\n",
      "Iter: 11, x1: 0.25, x2: 0.75\n",
      "Iter: 12, x1: 0.25, x2: 0.75\n",
      "Iter: 13, x1: 0.25, x2: 0.75\n",
      "Iter: 14, x1: 0.25, x2: 0.75\n"
     ]
    }
   ],
   "source": [
    "c0 = 0.8\n",
    "c_update = 'part_4'\n",
    "lam_update = 'part_2'\n",
    "NewtonMethod(Func , Fprime, Fhessian,x0, lam0, c0, c_update, lam_update)"
   ]
  },
  {
   "cell_type": "code",
   "execution_count": null,
   "metadata": {
    "collapsed": true
   },
   "outputs": [],
   "source": []
  }
 ],
 "metadata": {
  "anaconda-cloud": {},
  "kernelspec": {
   "display_name": "Python [conda root]",
   "language": "python",
   "name": "conda-root-py"
  },
  "language_info": {
   "codemirror_mode": {
    "name": "ipython",
    "version": 3
   },
   "file_extension": ".py",
   "mimetype": "text/x-python",
   "name": "python",
   "nbconvert_exporter": "python",
   "pygments_lexer": "ipython3",
   "version": "3.5.2"
  }
 },
 "nbformat": 4,
 "nbformat_minor": 1
}
