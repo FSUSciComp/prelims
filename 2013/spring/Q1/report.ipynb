{
 "cells": [
  {
   "cell_type": "markdown",
   "metadata": {},
   "source": [
    "#### Q1\n",
    "solution from Chaolun\n",
    "\n",
    "The implementation of the code is in opt03.m. When executing the code for 2 steps, I got the output to be:\n",
    "$$\n",
    "x_1=0.7237\n",
    "$$\n",
    "$$\n",
    "x_2=2.8947\n",
    "$$\n",
    "$$\n",
    "h=-1.3816\n",
    "$$"
   ]
  },
  {
   "cell_type": "code",
   "execution_count": null,
   "metadata": {
    "collapsed": true
   },
   "outputs": [],
   "source": []
  }
 ],
 "metadata": {
  "anaconda-cloud": {},
  "kernelspec": {
   "display_name": "Python [default]",
   "language": "python",
   "name": "python3"
  },
  "language_info": {
   "codemirror_mode": {
    "name": "ipython",
    "version": 3
   },
   "file_extension": ".py",
   "mimetype": "text/x-python",
   "name": "python",
   "nbconvert_exporter": "python",
   "pygments_lexer": "ipython3",
   "version": "3.5.2"
  }
 },
 "nbformat": 4,
 "nbformat_minor": 1
}
