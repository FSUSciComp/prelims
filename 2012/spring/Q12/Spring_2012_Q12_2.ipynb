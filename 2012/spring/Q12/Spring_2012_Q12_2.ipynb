{
 "cells": [
  {
   "cell_type": "code",
   "execution_count": 5,
   "metadata": {},
   "outputs": [
    {
     "name": "stdout",
     "output_type": "stream",
     "text": [
      "\n",
      "AREA =\n",
      "\n",
      "    1.5158\n",
      "\n",
      "\n"
     ]
    }
   ],
   "source": [
    "%Mid-Point Composite Method\n",
    "%Input an even integer for N\n",
    "N = 1000;\n",
    "% TO AVOID DIVISION BY ZERO, PROBLEM IS DIVIDED INTO LEFT AND RIGHT\n",
    "%*******************************************************************\n",
    "%Interval for x = [a,b]  for LEFT SIDE\n",
    "a =   -5;\n",
    "b =  -0.01;\n",
    "% Build x column vector for each step h ON THE LEFT SIDE\n",
    "h = (b-a) / (N + 2);\n",
    "x = zeros(N+1,1);\n",
    "for i = 1:(N+1)\n",
    "    x(i,1) = a + (i*h);\n",
    "end\n",
    "%Calculate Area on Left Side\n",
    "AREA_left = 0;\n",
    "STEPS = (N/2) + 1;\n",
    "for j = 1 : STEPS\n",
    "    n    = ((j-1)*2) + 1;     %the 1 keeps n from equalling 0\n",
    "    xn = x(n,1);\n",
    "    %  Area equals function height times step width\n",
    "    AREA_left = AREA_left + (2*h) * func_Q12(xn);\n",
    "end\n",
    "%******************************************************************\n",
    "\n",
    "%Interval for x = [a,b]  for RIGHT SIDE\n",
    "a =   0.01;\n",
    "b =  5;\n",
    "% Build x column vector for each step h ON THE RIGHT SIDE\n",
    "h = (b-a) / (N + 2);\n",
    "x = zeros(N+1,1);\n",
    "for i = 1:(N+1)\n",
    "    x(i,1) = a + (i*h);\n",
    "end\n",
    "%Calculate Area on Right Side\n",
    "AREA_right = 0;\n",
    "STEPS = (N/2) + 1;\n",
    "for j = 1 : STEPS\n",
    "    n    = ((j-1)*2) + 1;   %the 1 keeps n from equalling 0\n",
    "    xn = x(n,1);\n",
    "    %  Area equals function height times step width\n",
    "    AREA_right = AREA_right + (2*h) * func_Q12(xn);\n",
    "end\n",
    "%*******************************************************************\n",
    "% Add the Area on the left side to the Area on the right side\n",
    "AREA = AREA_left + AREA_right;\n",
    "AREA\n"
   ]
  },
  {
   "cell_type": "code",
   "execution_count": null,
   "metadata": {
    "collapsed": true
   },
   "outputs": [],
   "source": []
  }
 ],
 "metadata": {
  "kernelspec": {
   "display_name": "Matlab",
   "language": "matlab",
   "name": "matlab"
  },
  "language_info": {
   "codemirror_mode": "octave",
   "file_extension": ".m",
   "help_links": [
    {
     "text": "MetaKernel Magics",
     "url": "https://github.com/calysto/metakernel/blob/master/metakernel/magics/README.md"
    }
   ],
   "mimetype": "text/x-matlab",
   "name": "matlab",
   "version": "0.14.3"
  }
 },
 "nbformat": 4,
 "nbformat_minor": 2
}
