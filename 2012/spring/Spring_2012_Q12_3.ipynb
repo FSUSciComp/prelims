{
 "cells": [
  {
   "cell_type": "code",
   "execution_count": 3,
   "metadata": {},
   "outputs": [
    {
     "name": "stdout",
     "output_type": "stream",
     "text": [
      "\n",
      "AREA =\n",
      "\n",
      "    1.5325\n",
      "\n",
      "\n"
     ]
    }
   ],
   "source": [
    "%Numerical Integration      %Monte Carlo Method\n",
    "% TO AVOID DIVISION BY ZERO, PROBLEM IS DIVIDED INTO LEFT AND RIGHT\n",
    "%*******************************************************************\n",
    "%Interval for x = [a,b]  for LEFT SIDE\n",
    "a = -5;\n",
    "b = -0.01;\n",
    "%Input value for N\n",
    "N = 2000  ;\n",
    "%Column Vector x to store random values of x for Left Side\n",
    "x = zeros(N,1);\n",
    "%Randomly Generate x values between -5 and 0\n",
    "x = (b-a).*rand(N,1) + a;\n",
    "%Calculate Area on Left Side\n",
    "AREA_left = 0;\n",
    "%**************************************************************\n",
    "%Monte Carlo Formula; Area = (Sum of all f(x))*(b-a)/N\n",
    "%**************************************************************\n",
    "for i = 1:N\n",
    "   AREA_left = AREA_left +  (b-a)*func_Q12(x(i,1));\n",
    "end\n",
    "%Divide by N because Area = average f(x) times width from b to a\n",
    " AreaLeftAverage = AREA_left/N  ;\n",
    "%*******************************************************************\n",
    "\n",
    "%Interval for x = [a,b]  for Right SIDE\n",
    "a = 0.01;\n",
    "b = 5;\n",
    "%Column Vector x to store random values of x for Right Side\n",
    "x = zeros(N,1);\n",
    "%Randomly Geenerate x values between 0 and 5\n",
    "x = (b-a).*rand(N,1)+a;\n",
    "%Calculate Area on Right Side\n",
    "AREA_right = 0;\n",
    "%**************************************************************\n",
    "%Monte Carlo Formula; Area = (Sum of all f(x))*(b-a)/N\n",
    "%**************************************************************\n",
    "for i = 1:N\n",
    "   AREA_right = AREA_right + (b-a)*func_Q12(x(i,1));\n",
    "end\n",
    "%Divide by N because Area = average f(x) times width from b to a\n",
    "AreaRightAverage = AREA_right/N ;\n",
    "%**************************************************************\n",
    "% Add the Area on the left side to the Area on the right side\n",
    "AREA = AreaLeftAverage + AreaRightAverage;\n",
    "AREA\n"
   ]
  },
  {
   "cell_type": "code",
   "execution_count": null,
   "metadata": {
    "collapsed": true
   },
   "outputs": [],
   "source": []
  }
 ],
 "metadata": {
  "kernelspec": {
   "display_name": "Matlab",
   "language": "matlab",
   "name": "matlab"
  },
  "language_info": {
   "codemirror_mode": "octave",
   "file_extension": ".m",
   "help_links": [
    {
     "text": "MetaKernel Magics",
     "url": "https://github.com/calysto/metakernel/blob/master/metakernel/magics/README.md"
    }
   ],
   "mimetype": "text/x-matlab",
   "name": "matlab",
   "version": "0.14.3"
  }
 },
 "nbformat": 4,
 "nbformat_minor": 2
}
