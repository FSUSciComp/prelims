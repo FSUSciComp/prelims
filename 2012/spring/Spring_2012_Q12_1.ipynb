{
 "cells": [
  {
   "cell_type": "code",
   "execution_count": 7,
   "metadata": {},
   "outputs": [
    {
     "name": "stdout",
     "output_type": "stream",
     "text": [
      "\n",
      "AREA =\n",
      "\n",
      "    1.5133\n",
      "\n",
      "\n"
     ]
    }
   ],
   "source": [
    "%Numerical Integration ;   Romberg Integration Method (Starts by using Trapezoidal Composite)   %Input Number N\n",
    "N = 512;\n",
    "% TO AVOID DIVISION BY ZERO, PROBLEM IS DIVIDED INTO LEFT AND RIGHT\n",
    "\n",
    "%*******************************************************************\n",
    "%Interval for x = [a,b]  for LEFT SIDE\n",
    "a = -5;\n",
    "b =  -0.01;\n",
    "% Build x column vector for each step h ON THE LEFT SIDE\n",
    "h = (b-a) / (N);\n",
    "x = zeros(N+1,1);\n",
    "x(1,1) = a;\n",
    "for i = 2:(N+1)\n",
    "    x(i,1) =  h*(i-1);\n",
    "end\n",
    "\n",
    "%******************************************************************\n",
    "%Calculate Area on Left Side\n",
    "%Area of the 1st Half Space at x0\n",
    "AREA_left = (1/2)*h*func_1(x(1,1));\n",
    "% Area of Left Side Calculated\n",
    "for i = 1 :(N+1)\n",
    "   AREA_left = AREA_left + h*func_Q12(x(i,1));\n",
    "end\n",
    "%Add Area of last half space at xn\n",
    "AREA_left = AREA_left + (1/2)*h*func_Q12(x(N+1,1));\n",
    "\n",
    "%*******************************************************************\n",
    "%Interval for x = [a,b]  for RIGHT SIDE\n",
    "a = 0.01;\n",
    "b = 5;\n",
    "% Build x column vector for each step h ON THE RIGHT SIDE\n",
    "h = (b-a) / (N);\n",
    "x = zeros(N+1,1);\n",
    "x(1,1) = a;\n",
    "for i = 2:(N+1)\n",
    "    x(i,1) =  h*(i-1);\n",
    "end\n",
    "%Calculate Area on RIGHT Side\n",
    "%Area of the 1st Half Space at x0\n",
    "AREA_right = (1/2)*h*func_Q12(x(1,1));\n",
    "% Area of RIGHT Side Calculated\n",
    "for i = 1 :(N+1)\n",
    "   AREA_right = AREA_right + h*func_Q12(x(i,1));\n",
    "end\n",
    "%Add Area of last half space to xn\n",
    "AREA_right = AREA_right + (1/2)*h*func_Q12(x(N+1,1));\n",
    "\n",
    "%**************************************************************\n",
    "% Add the Area on the left side to the Area on the right side\n",
    "AREA = AREA_left+AREA_right;\n",
    "AREA"
   ]
  },
  {
   "cell_type": "code",
   "execution_count": null,
   "metadata": {
    "collapsed": true
   },
   "outputs": [],
   "source": []
  }
 ],
 "metadata": {
  "kernelspec": {
   "display_name": "Matlab",
   "language": "matlab",
   "name": "matlab"
  },
  "language_info": {
   "codemirror_mode": "octave",
   "file_extension": ".m",
   "help_links": [
    {
     "text": "MetaKernel Magics",
     "url": "https://github.com/calysto/metakernel/blob/master/metakernel/magics/README.md"
    }
   ],
   "mimetype": "text/x-matlab",
   "name": "matlab",
   "version": "0.14.3"
  }
 },
 "nbformat": 4,
 "nbformat_minor": 2
}
