{
 "cells": [
  {
   "cell_type": "markdown",
   "metadata": {},
   "source": [
    "# 2012 Summer Q2\n",
    "# Ordinary Differential Equations/Molecular Dynamics (Dr. Shanbhag)"
   ]
  },
  {
   "cell_type": "markdown",
   "metadata": {},
   "source": [
    "## a)\n",
    "\n",
    "Verlet's algorithm has the position update:\n",
    "\n",
    "$$\n",
    "r(t+\\Delta t) + r(t - \\Delta t) = 2r(t) + \\frac{f(t)}{m}\\Delta t^2 + \\mathcal{O}\\Delta t^4\n",
    "$$\n",
    "\n",
    "Notably, Verlet's algorithm does not have a velocity term, so we know that we must remove the velocity term from the new scheme given, which is Beeman's algorithm:\n",
    "\n",
    "$$\n",
    "r(t+\\Delta t) = r(t) + v(t)\\Delta t + \\frac{4f(t) - f(t-\\Delta t)}{6m}\\Delta t^2\n",
    "\\\\\n",
    "\\\\\n",
    "v(t+\\Delta t) = v(t) + \\frac{2f(t+\\Delta t) + 5f(t) - f(t-\\Delta t)}{6m}\\Delta t\n",
    "$$\n",
    "\n",
    "We can remove the velocity term from the Beeman algorithm and show the equivalence of the position updates for the Beeman and Verlet algorithms by finding the difference of two consecutive Beeman position updates:\n",
    "\n",
    "$$\n",
    "r(t+\\Delta t) - r(t) = v(t)\\Delta t + \\frac{4f(t) - f(t-\\Delta t)}{6m}\\Delta t^2\n",
    "\\\\\n",
    "\\\\\n",
    "r(t) - r(t - \\Delta t) = v(t - \\Delta t)\\Delta t + \\frac{4f(t - \\Delta t) - f(t-2\\Delta t)}{6m}\\Delta t^2\n",
    "$$\n",
    "\n",
    "\\begin{align}\n",
    "r(t+\\Delta t) - 2r(t) + r(t - \\Delta t) &= (v(t)-v(t - \\Delta t))\\Delta t + \\frac{4f(t) - f(t-\\Delta t)}{6m}\\Delta t^2 -  \\frac{4f(t - \\Delta t) - f(t-2\\Delta t)}{6m}\\Delta t^2\n",
    "\\\\\n",
    "\\\\&= \\frac{2f(t) + 5f(t-\\Delta t) - f(t-2\\Delta t)}{6m}\\Delta t^2 + \\frac{4f(t) - 5f(t-\\Delta t) + f(t-2\\Delta t)}{6m}\\Delta t^2 \n",
    "\\\\\n",
    "\\\\&= \\frac{f(t)}{m}\\Delta t^2 \n",
    "\\end{align}"
   ]
  },
  {
   "cell_type": "markdown",
   "metadata": {},
   "source": [
    "## b)\n",
    "\n",
    "To ensure that the velocity update is fourth ordered, I would use the solution of the two-body problem to calculate the exact velocity of a two-body-system's particles, then compute error estimates by using velocity approximations from the allegedly-fourth-ordered velocity update. "
   ]
  },
  {
   "cell_type": "markdown",
   "metadata": {},
   "source": [
    "## c)\n",
    "\n",
    "Eliminating the need to store two copies for position and velocity is straightforward. For example, you can store one copy of position (instead of two copies) by updating the current position with position's next value rather than creating a new variable for position's next value.\n",
    "\n",
    "Also, we can remove the need to store one of the copies of force by updating $r(t+\\Delta t)$ and $v(t+\\Delta t)$ with $f(t-\\Delta t)$, then replacing $f(t-\\Delta t)$ with $f(t)$ and finishing the updates of $r(t+\\Delta t)$ and $v(t+\\Delta t)$.\n",
    "\n",
    "We can take this method further so that we only need to hold one copy of force, and thus one copy of each variable. Here's the algorithm:\n",
    "\n",
    "$$\n",
    "r_1 = r(\\Delta t)\n",
    "\\\\\n",
    "f_1 = f(\\Delta t) \\equiv FORCE(r_1)\n",
    "\\\\\n",
    "v_1 = v(\\Delta t)\n",
    "\\\\\n",
    "f_{1_r} = \\frac{4\\Delta t^2}{6m} f(1)\n",
    "\\\\\n",
    "f_{1_v} = \\frac{5\\Delta t}{6m} f(1)\n",
    "$$\n",
    "\n",
    "To obtain $r_2$, perform the following operations on $r_1$:\n",
    "\n",
    "$\\color{white}{indent} + f_{0_r}$\n",
    "\n",
    "$\\color{white}{indent}$ update $v_1$ with $f_{0_v}$ to obtain $v_1^*$\n",
    "\n",
    "$\\color{white}{indent} + [v_1^* - f_{0_v} = v_1] $\n",
    "\n",
    "$\\color{white}{indent}$ replace $f_0$ with $f_1 = FORCE(r_1^*-f_{0_r}-v_1^*+f_{0_v})$\n",
    "\n",
    "$\\color{white}{indent} + f_{1_r}$\n",
    "\n",
    "To obtain $v_2$, perform the following operations on $v_1^*$:\n",
    "\n",
    "$\\color{white}{indent} + f_{1_v}$\n",
    "\n",
    "$\\color{white}{indent} + FORCE(r_2)_v$"
   ]
  },
  {
   "cell_type": "markdown",
   "metadata": {},
   "source": [
    "## Resources\n",
    "\n",
    "Equivalence of position update for Beeman's algorithm and Verlet algorithm: section 4.5 of \"Computer Simulation Using Particles\" by Hockney (page 107 in the Google Books Preview)."
   ]
  }
 ],
 "metadata": {
  "kernelspec": {
   "display_name": "Python 2",
   "language": "python",
   "name": "python2"
  },
  "language_info": {
   "codemirror_mode": {
    "name": "ipython",
    "version": 2
   },
   "file_extension": ".py",
   "mimetype": "text/x-python",
   "name": "python",
   "nbconvert_exporter": "python",
   "pygments_lexer": "ipython2",
   "version": "2.7.11"
  }
 },
 "nbformat": 4,
 "nbformat_minor": 0
}
