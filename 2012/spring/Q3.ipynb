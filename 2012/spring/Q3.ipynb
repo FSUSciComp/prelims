{
 "cells": [
  {
   "cell_type": "markdown",
   "metadata": {},
   "source": [
    "# 3. Interpolation (Dr. Shanbhag)"
   ]
  },
  {
   "cell_type": "markdown",
   "metadata": {},
   "source": [
    "The population in the US is given in the following table:"
   ]
  },
  {
   "cell_type": "code",
   "execution_count": 3,
   "metadata": {
    "collapsed": false
   },
   "outputs": [],
   "source": [
    "import numpy as np\n",
    "import matplotlib.pyplot as plt\n",
    "from scipy import interpolate\n",
    "%matplotlib inline"
   ]
  },
  {
   "cell_type": "code",
   "execution_count": 4,
   "metadata": {
    "collapsed": false
   },
   "outputs": [],
   "source": [
    "num_pts = 9\n",
    "time = np.linspace(1900, 1980, num_pts)\n",
    "pop = np.array([76212168, 92228496, 106021537, 123202624, 132164569, \n",
    "                151325798, 179323175, 203302031, 226542199])"
   ]
  },
  {
   "cell_type": "markdown",
   "metadata": {},
   "source": [
    "There is a unique polynomial of degree $8$ that interpolates these $9$ data points, but that polynomial can be represented in many different ways. Consider the following possible sets of basis functions:\n",
    "1. $\\phi_j(t) = t^{j-1}$\n",
    "2. $\\phi_j(t) = (t-1900)^{j-1}$\n",
    "3. $\\phi_j(t) = (t-1940)^{j-1}$\n",
    "4. $\\phi_j(t) = \\frac{t-1940}{40}^{j-1}$\n",
    "where $j = 1,...,9$."
   ]
  },
  {
   "cell_type": "code",
   "execution_count": 5,
   "metadata": {
    "collapsed": true
   },
   "outputs": [],
   "source": [
    "def basis(t,j, basis_idx):\n",
    "    if basis_idx == 1:\n",
    "        return t**(j-1)\n",
    "    if basis_idx == 2:\n",
    "        return (t-1900)**(j-1)\n",
    "    if basis_idx == 3:\n",
    "        return (t-1940)**(j-1)\n",
    "    if basis_idx == 4:\n",
    "        return ((t-1940)/40.0)**(j-1)"
   ]
  },
  {
   "cell_type": "markdown",
   "metadata": {},
   "source": [
    "* For the four sets of basis functions generate the corresopnding Vandermonde matrix, and compute the corresponding condition number (use of a library routine is fine). Explain your observations"
   ]
  },
  {
   "cell_type": "code",
   "execution_count": 45,
   "metadata": {
    "collapsed": false
   },
   "outputs": [
    {
     "name": "stdout",
     "output_type": "stream",
     "text": [
      "The condition numbers are:\n",
      "[  1.31577874e+37   6.54074835e+15   9.31553605e+12   1.60544370e+03]\n"
     ]
    }
   ],
   "source": [
    "num_basis = 4\n",
    "cond_nums = np.zeros(num_basis)\n",
    "\n",
    "for basis_idx in xrange(num_basis):\n",
    "    V = np.zeros((num_pts, num_pts))\n",
    "    for i in xrange(num_pts):\n",
    "        for j in xrange(num_pts): \n",
    "            V[i,j] = basis(time[i], j+1, basis_idx+1)\n",
    "    cond_nums[basis_idx] = np.linalg.cond(V)\n",
    "\n",
    "print \"The condition numbers are:\"\n",
    "print cond_nums"
   ]
  },
  {
   "cell_type": "markdown",
   "metadata": {},
   "source": [
    "* Using the best-conditioned basis, compute the polynomial interpolant."
   ]
  },
  {
   "cell_type": "code",
   "execution_count": 33,
   "metadata": {
    "collapsed": false
   },
   "outputs": [
    {
     "name": "stdout",
     "output_type": "stream",
     "text": [
      "The coefficients of the polynomial interpolant are:\n",
      "[  1.32164569e+08   4.61307656e+07   1.02716315e+08   1.82527130e+08\n",
      "  -3.74614715e+08  -3.42668456e+08   6.06291250e+08   1.89175576e+08\n",
      "  -3.15180235e+08]\n"
     ]
    }
   ],
   "source": [
    "basis_idx = 4\n",
    "V = np.zeros((num_pts, num_pts))\n",
    "for i in xrange(num_pts):\n",
    "    for j in xrange(num_pts): \n",
    "        V[i,j] = basis(time[i], j+1, basis_idx)\n",
    "\n",
    "coeffs = np.linalg.solve(V, pop)\n",
    "print \"The coefficients of the polynomial interpolant are:\"\n",
    "print coeffs\n",
    "\n",
    "def my_poly_inter(time, coeffs, basis_idx):\n",
    "    y = 0\n",
    "    for j in xrange(len(coeffs)):\n",
    "        y += coeffs[j]*basis(time, j+1, basis_idx)\n",
    "    return y"
   ]
  },
  {
   "cell_type": "markdown",
   "metadata": {},
   "source": [
    "* Use Hermite cubic interpolation (again, use of a library routine is fine) to interpolate the data. Plot the data and both the interpolants."
   ]
  },
  {
   "cell_type": "code",
   "execution_count": 37,
   "metadata": {
    "collapsed": false
   },
   "outputs": [
    {
     "data": {
      "text/plain": [
       "[<matplotlib.lines.Line2D at 0xa97ca90>]"
      ]
     },
     "execution_count": 37,
     "metadata": {},
     "output_type": "execute_result"
    },
    {
     "data": {
      "image/png": "[encoded data removed]",
      "text/plain": [
       "<matplotlib.figure.Figure at 0xa97c6d8>"
      ]
     },
     "metadata": {},
     "output_type": "display_data"
    }
   ],
   "source": [
    "my_cubic_hermite = interpolate.PchipInterpolator(time, pop)\n",
    "plt.plot(time, pop, 'o')\n",
    "t = np.linspace(1900, 1980, 100)\n",
    "plt.plot(t, my_cubic_hermite(t))\n",
    "plt.plot(t, my_poly_inter(t, coeffs, 4), '--')"
   ]
  },
  {
   "cell_type": "markdown",
   "metadata": {},
   "source": [
    "* Extrapolate the population to $1990$ using the two interpolants. How do they compare with the true value of $248,709,873$ according to the $1990$ census."
   ]
  },
  {
   "cell_type": "code",
   "execution_count": 44,
   "metadata": {
    "collapsed": false
   },
   "outputs": [
    {
     "name": "stdout",
     "output_type": "stream",
     "text": [
      "According to the polynomial interpolation, the population at 1990 is 8.27491e+07\n",
      "According to the cubic hermite interpolation, the population at 1990 is 2.49032e+08\n",
      "Since the exact solution is 2.4871e+08, the relative errors are:\n",
      "Polynomial interpolation: 0.667286\n",
      "Cubic Hermite interpolation: 0.001296\n"
     ]
    }
   ],
   "source": [
    "t = 1990\n",
    "true_pop = 248709873\n",
    "poly_inter_approx = my_poly_inter(t, coeffs, 4)\n",
    "cubic_hermite_approx = my_cubic_hermite(t)\n",
    "print \"According to the polynomial interpolation, the population at %i is %g\" %(t, poly_inter_approx)\n",
    "print \"According to the cubic hermite interpolation, the population at %i is %g\" %(t, cubic_hermite_approx)\n",
    "print \"Since the exact solution is %g, the relative errors are:\" %true_pop\n",
    "print \"Polynomial interpolation: %f\" %np.fabs((poly_inter_approx-true_pop)/true_pop)\n",
    "print \"Cubic Hermite interpolation: %f\" %np.fabs((cubic_hermite_approx-true_pop)/true_pop)\n"
   ]
  }
 ],
 "metadata": {
  "kernelspec": {
   "display_name": "Python 2",
   "language": "python",
   "name": "python2"
  },
  "language_info": {
   "codemirror_mode": {
    "name": "ipython",
    "version": 2
   },
   "file_extension": ".py",
   "mimetype": "text/x-python",
   "name": "python",
   "nbconvert_exporter": "python",
   "pygments_lexer": "ipython2",
   "version": "2.7.11"
  }
 },
 "nbformat": 4,
 "nbformat_minor": 0
}
