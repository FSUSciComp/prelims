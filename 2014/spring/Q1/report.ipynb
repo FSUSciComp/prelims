{
 "cells": [
  {
   "cell_type": "markdown",
   "metadata": {},
   "source": [
    "#### Q1\n",
    "Solution from Chaolun\n",
    "\n",
    "To perform the exact line search method on BFGS, if the cost function is quadratic, we can re-write the cost function into the form\n",
    "$$\n",
    "f(x)=\\frac{1}{2}x^TAx+x^Tb\n",
    "$$\n",
    "Define $x=[x_1,x_2]^T$, given the cost function to be:\n",
    "$$\n",
    "f(x_1,x_2)=x_1-x_2+2x_1^2+2x_1x_2+x_2^2\n",
    "$$\n",
    "we can have:\n",
    "$$\n",
    "A=\\begin{bmatrix}\n",
    "4 & 2 \\\\\n",
    "2 & 2 \n",
    "\\end{bmatrix}\n",
    "$$\n",
    "$$\n",
    "b=\\begin{bmatrix}\n",
    "-1\\\\\n",
    "1\n",
    "\\end{bmatrix}\n",
    "$$\n",
    "Then we can have the line search stepsize given by:\n",
    "$$\n",
    "\\alpha=-\\frac{\\Delta x^T \\nabla f}{\\Delta x^T A \\Delta x}$$\n",
    "\n",
    "The implementation of the BFGS with exact line search is in opt01.m file\n",
    "\n",
    "When executing the matlab code, we can see that the method converges in two steps. With the minimum found to be at the point:\n",
    "$$\n",
    "x=\\begin{bmatrix}\n",
    "-1\\\\\n",
    "1.5\n",
    "\\end{bmatrix}\n",
    "$$"
   ]
  }
 ],
 "metadata": {
  "anaconda-cloud": {},
  "kernelspec": {
   "display_name": "Python [default]",
   "language": "python",
   "name": "python3"
  },
  "language_info": {
   "codemirror_mode": {
    "name": "ipython",
    "version": 3
   },
   "file_extension": ".py",
   "mimetype": "text/x-python",
   "name": "python",
   "nbconvert_exporter": "python",
   "pygments_lexer": "ipython3",
   "version": "3.5.2"
  }
 },
 "nbformat": 4,
 "nbformat_minor": 1
}
